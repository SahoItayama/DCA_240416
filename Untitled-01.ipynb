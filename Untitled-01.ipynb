{
 "cells": [
  {
   "cell_type": "code",
   "execution_count": 6,
   "metadata": {},
   "outputs": [
    {
     "name": "stdout",
     "output_type": "stream",
     "text": [
      "最適値: 0.0\n",
      "最適なz: [0. 0. 0. 0. 0. 0. 0. 0. 0. 0. 0. 0. 0. 0. 0. 0. 0. 0. 0. 0. 0. 0. 0. 0.\n",
      " 0. 0. 0. 0. 0. 0. 0. 0. 0. 0. 0. 0. 0. 0. 0. 0. 0. 0. 0. 0. 0. 0. 0. 0.\n",
      " 0. 0. 0. 0. 0. 0. 0. 0. 0. 0. 0. 0. 0. 0. 0. 0. 0. 0. 0. 0. 0. 0. 0. 0.\n",
      " 0. 0. 0. 0. 0. 0. 0. 0. 0. 0. 0. 0. 0. 0. 0. 0. 0. 0. 0. 0. 0. 0. 0. 0.\n",
      " 0. 0. 0. 0.]\n",
      "s_z^{t-1}: [1. 0. 0. 0. 0. 0. 0. 0. 0. 0. 0. 0. 0. 0. 0. 0. 0. 0. 0. 0. 0. 0. 0. 0.\n",
      " 0. 0. 0. 0. 0. 0. 0. 0. 0. 0. 0. 0. 0. 0. 0. 0. 0. 0. 0. 0. 0. 0. 0. 0.\n",
      " 0. 0. 0. 0. 0. 0. 0. 0. 0. 0. 0. 0. 0. 0. 0. 0. 0. 0. 0. 0. 0. 0. 0. 1.\n",
      " 1. 0. 0. 0. 0. 0. 0. 0. 0. 0. 0. 0. 0. 0. 0. 0. 0. 0. 0. 0. 0. 0. 0. 0.\n",
      " 0. 0. 0. 0.]\n"
     ]
    }
   ],
   "source": [
    "import numpy as np\n",
    "from scipy.optimize import linprog\n",
    "\n",
    "def optimize_z(K, n):\n",
    "    # 目的関数の係数\n",
    "    c = np.ones(n)\n",
    "    \n",
    "    # 制約行列と制約ベクトル\n",
    "    A_eq = np.zeros((1, n))\n",
    "    b_eq = np.zeros(1)\n",
    "    \n",
    "    # SciPyの線形計画法を使用して最適化\n",
    "    res = linprog(c, A_eq=A_eq, b_eq=b_eq, bounds=[(0, 1)]*n, method='highs')\n",
    "    \n",
    "    # 最適解\n",
    "    z = res.x\n",
    "    \n",
    "    # 絶対値の降順に並び替えたインデックスを取得\n",
    "    sorted_indices = np.argsort(-np.abs(z))\n",
    "    \n",
    "    # s_z^{t-1} を構築\n",
    "    s_z = np.zeros_like(z)\n",
    "    s_z[sorted_indices[:K]] = 1\n",
    "    \n",
    "    # 目的関数の値を計算\n",
    "    obj_value = np.sum(np.abs(z)) - np.dot(z, s_z)\n",
    "    \n",
    "    return z, s_z, obj_value\n",
    "\n",
    "# 例\n",
    "K = 3\n",
    "n = 100\n",
    "z, s_z, obj_value = optimize_z(K, n)\n",
    "print(\"最適値:\", obj_value)\n",
    "print(\"最適なz:\", z)\n",
    "print(\"s_z^{t-1}:\", s_z)\n"
   ]
  },
  {
   "cell_type": "code",
   "execution_count": 8,
   "metadata": {},
   "outputs": [
    {
     "name": "stdout",
     "output_type": "stream",
     "text": [
      "[ 1.76405235  0.40015721  0.97873798  2.2408932   1.86755799 -0.97727788\n",
      "  0.95008842 -0.15135721 -0.10321885  0.4105985 ]\n",
      "[1.  0.5 0.5 1.  1.  0.  0.5 0.  0.  0.5]\n"
     ]
    }
   ],
   "source": [
    "np.random.seed(0)\n",
    "z_t_minus_1 = np.random.randn(10)\n",
    "print(z_t_minus_1)\n",
    "y_t = np.zeros_like(z_t_minus_1)\n",
    "# noise = np.random.normal(0, 0.1, n)  # Add Gaussian noise with mean 0 and standard deviation 0.1\n",
    "for i in range(10):\n",
    "    if z_t_minus_1[i] >= 1:\n",
    "        # y_t[i] = z_t_minus_1[i] - alpha * (rho * (1-s_z_t_minus_1[i]) + noise[i])\n",
    "        # print(z_t_minus_1[i])\n",
    "        y_t[i] = 1\n",
    "        # print(y_t[i])\n",
    "    elif z_t_minus_1[i] < 0:\n",
    "        # y_t[i] = z_t_minus_1[i] - alpha * (rho * (-1-s_z_t_minus_1[i]) + noise[i])\n",
    "        y_t[i] = 0\n",
    "        # print(\"b\")\n",
    "    else:\n",
    "        # print(\"c\")\n",
    "        y_t[i] = 0.5\n",
    "print(y_t)\n"
   ]
  },
  {
   "cell_type": "code",
   "execution_count": null,
   "metadata": {},
   "outputs": [],
   "source": []
  }
 ],
 "metadata": {
  "kernelspec": {
   "display_name": ".venv",
   "language": "python",
   "name": "python3"
  },
  "language_info": {
   "codemirror_mode": {
    "name": "ipython",
    "version": 3
   },
   "file_extension": ".py",
   "mimetype": "text/x-python",
   "name": "python",
   "nbconvert_exporter": "python",
   "pygments_lexer": "ipython3",
   "version": "3.12.2"
  }
 },
 "nbformat": 4,
 "nbformat_minor": 2
}
