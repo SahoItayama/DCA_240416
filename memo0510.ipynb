{
 "cells": [
  {
   "cell_type": "code",
   "execution_count": null,
   "metadata": {},
   "outputs": [],
   "source": [
    "import numpy as np\n",
    "from scipy.optimize import linprog\n",
    "\n",
    "# Define the objective function coefficients\n",
    "c = np.array([1, 0, 0, ..., 0])\n",
    "\n",
    "# Define the inequality constraints matrix\n",
    "T = np.array([[T_11, T_12, ..., T_1n],\n",
    "              [T_21, T_22, ..., T_2n],\n",
    "              ...\n",
    "              [T_m1, T_m2, ..., T_mn]])\n",
    "\n",
    "# Define the inequality constraints vector\n",
    "xi_i = np.array([xi_1, xi_2, ..., xi_m])\n",
    "\n",
    "# Define the inequality constraints bounds\n",
    "bounds = [(0, None)] * n\n",
    "\n",
    "# Define the equality constraints matrix\n",
    "A_eq = np.array([[sigma_1, sigma_2, ..., sigma_n]])\n",
    "\n",
    "# Define the equality constraints vector\n",
    "b_eq = np.array([n * epsilon])\n",
    "\n",
    "# Solve the linear programming problem\n",
    "res = linprog(c, A_ub=-T, b_ub=-xi_i, A_eq=A_eq, b_eq=b_eq, bounds=bounds, method='highs')\n",
    "\n",
    "# Extract the solution\n",
    "z = res.x\n",
    "\n",
    "# Print the solution\n",
    "print(\"Optimal solution:\")\n",
    "print(z)\n"
   ]
  },
  {
   "cell_type": "code",
   "execution_count": null,
   "metadata": {},
   "outputs": [],
   "source": [
    "import numpy as np\n",
    "from scipy.optimize import linprog\n",
    "\n",
    "# 目的関数の係数を定義\n",
    "c = np.array([1, 0, 0, ..., 0])\n",
    "\n",
    "# 不等式制約の行列を定義\n",
    "T = np.array([[T_11, T_12, ..., T_1n],\n",
    "              [T_21, T_22, ..., T_2n],\n",
    "              ...\n",
    "              [T_m1, T_m2, ..., T_mn]])\n",
    "\n",
    "# 不等式制約のベクトルを定義\n",
    "xi_i = np.array([xi_1, xi_2, ..., xi_m])\n",
    "\n",
    "# 不等式制約の上下限を定義\n",
    "bounds = [(0, None)] * n\n",
    "\n",
    "# 等式制約の行列を定義\n",
    "A_eq = np.array([[sigma_1, sigma_2, ..., sigma_n]])\n",
    "\n",
    "# 等式制約のベクトルを定義\n",
    "b_eq = np.array([n * epsilon])\n",
    "\n",
    "# 線形計画問題を解く\n",
    "res = linprog(c, A_ub=-T, b_ub=-xi_i, A_eq=A_eq, b_eq=b_eq, bounds=bounds, method='highs')\n",
    "\n",
    "# 解を抽出\n",
    "z = res.x\n",
    "\n",
    "# 解を表示\n",
    "print(\"最適解:\")\n",
    "print(z)\n"
   ]
  },
  {
   "cell_type": "code",
   "execution_count": 26,
   "metadata": {},
   "outputs": [
    {
     "name": "stdout",
     "output_type": "stream",
     "text": [
      "[5.76081437 9.5636864  7.65402889 5.71692171 4.94308096]\n",
      "[10.41573095  9.07589781  2.99240736 11.79347301  1.18865138]\n",
      "[2.56311785 8.0537746  5.47886704 5.58077858 8.26943708]\n",
      "[ 3.88055565  2.68405536 10.43269923  0.15580677  0.428435  ]\n",
      "[7.13446078 0.16747399 7.13596405 0.24574849 8.89003658]\n"
     ]
    }
   ],
   "source": [
    "import numpy as np\n",
    "np.random.seed(0)\n",
    "xi = []\n",
    "for _ in range(5):\n",
    "    mean = np.random.uniform(0, 10, 5)  # 平均ベクトルをランダムに生成\n",
    "    variance = np.random.uniform(1, 5, 5)  # 分散ベクトルをランダムに生成\n",
    "    consumer_demand = np.abs(np.random.normal(mean, np.sqrt(variance), 5))  # 正規分布に従うランダムベクトルを生成\n",
    "    xi.append(consumer_demand)\n",
    "    print(consumer_demand)"
   ]
  },
  {
   "cell_type": "code",
   "execution_count": 6,
   "metadata": {},
   "outputs": [
    {
     "name": "stdout",
     "output_type": "stream",
     "text": [
      "[array([10.41573095,  9.07589781,  2.99240736, 11.79347301,  1.18865138]), array([5.76081437, 9.5636864 , 7.65402889, 5.71692171, 4.94308096]), array([2.56311785, 8.0537746 , 5.47886704, 5.58077858, 8.26943708]), array([7.13446078, 0.16747399, 7.13596405, 0.24574849, 8.89003658]), array([ 3.88055565,  2.68405536, 10.43269923,  0.15580677,  0.428435  ])]\n"
     ]
    }
   ],
   "source": [
    "sorted_xi = sorted(xi, key=lambda x: np.sum(x), reverse=True)\n",
    "print(sorted_xi)"
   ]
  },
  {
   "cell_type": "code",
   "execution_count": 8,
   "metadata": {},
   "outputs": [
    {
     "name": "stdout",
     "output_type": "stream",
     "text": [
      "[10.41573095  9.07589781  2.99240736 11.79347301  1.18865138]\n",
      "[5.76081437 9.5636864  7.65402889 5.71692171 4.94308096]\n",
      "[2.56311785 8.0537746  5.47886704 5.58077858 8.26943708]\n",
      "[7.13446078 0.16747399 7.13596405 0.24574849 8.89003658]\n",
      "[ 3.88055565  2.68405536 10.43269923  0.15580677  0.428435  ]\n"
     ]
    }
   ],
   "source": [
    "for i in sorted_xi:\n",
    "    print(i)"
   ]
  },
  {
   "cell_type": "code",
   "execution_count": null,
   "metadata": {},
   "outputs": [],
   "source": [
    "import numpy as np\n",
    "\n",
    "# 行列から二行ベクトルを取得\n",
    "row1 = xi[0]\n",
    "row2 = xi[1]\n",
    "\n",
    "# ２行ベクトルの各要素の大きさを比較し、大きい場合はインデックスを先にする\n",
    "\n",
    "\n"
   ]
  },
  {
   "cell_type": "code",
   "execution_count": 11,
   "metadata": {},
   "outputs": [
    {
     "name": "stdout",
     "output_type": "stream",
     "text": [
      "(3540292.729446726+0j)\n"
     ]
    }
   ],
   "source": [
    "K = 40\n",
    "J = 100\n",
    "C = np.random.uniform(10, 50, size=(K, J))\n",
    "\n",
    "# C^TCの最大固有値を求める\n",
    "eigenvalues = np.linalg.eigvals(C.T @ C)\n",
    "max_eigenvalue = np.max(eigenvalues)\n",
    "print(max_eigenvalue)\n"
   ]
  },
  {
   "cell_type": "code",
   "execution_count": 13,
   "metadata": {},
   "outputs": [
    {
     "name": "stdout",
     "output_type": "stream",
     "text": [
      "[array([5.76081437, 9.5636864 , 7.65402889, 5.71692171, 4.94308096]), array([10.41573095,  9.07589781,  2.99240736, 11.79347301,  1.18865138]), array([2.56311785, 8.0537746 , 5.47886704, 5.58077858, 8.26943708]), array([ 3.88055565,  2.68405536, 10.43269923,  0.15580677,  0.428435  ]), array([7.13446078, 0.16747399, 7.13596405, 0.24574849, 8.89003658])]\n",
      "5.760814368534249\n",
      "10.415730949159121\n",
      "2.5631178512548636\n",
      "3.88055565331742\n",
      "7.134460783759826\n"
     ]
    }
   ],
   "source": [
    "print(xi)\n",
    "for i in xi:\n",
    "    print(i[0])"
   ]
  },
  {
   "cell_type": "code",
   "execution_count": 15,
   "metadata": {},
   "outputs": [
    {
     "name": "stdout",
     "output_type": "stream",
     "text": [
      "[array([10.41573095,  9.07589781,  2.99240736, 11.79347301,  1.18865138]), array([7.13446078, 0.16747399, 7.13596405, 0.24574849, 8.89003658]), array([5.76081437, 9.5636864 , 7.65402889, 5.71692171, 4.94308096]), array([ 3.88055565,  2.68405536, 10.43269923,  0.15580677,  0.428435  ]), array([2.56311785, 8.0537746 , 5.47886704, 5.58077858, 8.26943708])]\n"
     ]
    }
   ],
   "source": [
    "# xiの第一成分で大きさを比較しソート\n",
    "sorted_xi = sorted(xi, key=lambda x: x[0], reverse=True)\n",
    "print(sorted_xi)"
   ]
  },
  {
   "cell_type": "code",
   "execution_count": 16,
   "metadata": {},
   "outputs": [
    {
     "name": "stdout",
     "output_type": "stream",
     "text": [
      "[10.415730949159121, 7.134460783759826, 5.760814368534249, 3.88055565331742, 2.5631178512548636]\n"
     ]
    }
   ],
   "source": [
    "# sorted_xiの第一成分だけの配列にする\n",
    "sorted_xi_1 = [i[0] for i in sorted_xi]\n",
    "print(sorted_xi_1)"
   ]
  },
  {
   "cell_type": "code",
   "execution_count": 17,
   "metadata": {},
   "outputs": [
    {
     "name": "stdout",
     "output_type": "stream",
     "text": [
      "[array([10.41573095,  9.07589781,  2.99240736, 11.79347301,  1.18865138]), array([7.13446078, 0.16747399, 7.13596405, 0.24574849, 8.89003658]), array([5.76081437, 9.5636864 , 7.65402889, 5.71692171, 4.94308096]), array([ 3.88055565,  2.68405536, 10.43269923,  0.15580677,  0.428435  ]), array([2.56311785, 8.0537746 , 5.47886704, 5.58077858, 8.26943708])]\n"
     ]
    }
   ],
   "source": [
    "print(xi)"
   ]
  },
  {
   "cell_type": "code",
   "execution_count": 19,
   "metadata": {},
   "outputs": [
    {
     "name": "stdout",
     "output_type": "stream",
     "text": [
      "[[10.41573095  9.07589781  2.99240736 11.79347301  1.18865138]\n",
      " [ 7.13446078  0.16747399  7.13596405  0.24574849  8.89003658]\n",
      " [ 5.76081437  9.5636864   7.65402889  5.71692171  4.94308096]\n",
      " [ 3.88055565  2.68405536 10.43269923  0.15580677  0.428435  ]\n",
      " [ 2.56311785  8.0537746   5.47886704  5.58077858  8.26943708]]\n"
     ]
    }
   ],
   "source": [
    "#xiの列ごとにソート、要素を入れ替える\n",
    "xi = np.array(xi)\n",
    "print(xi)"
   ]
  },
  {
   "cell_type": "code",
   "execution_count": 27,
   "metadata": {},
   "outputs": [
    {
     "name": "stdout",
     "output_type": "stream",
     "text": [
      "[[10.41573095  9.5636864  10.43269923 11.79347301  8.89003658]\n",
      " [ 7.13446078  9.07589781  7.65402889  5.71692171  8.26943708]\n",
      " [ 5.76081437  8.0537746   7.13596405  5.58077858  4.94308096]\n",
      " [ 3.88055565  2.68405536  5.47886704  0.24574849  1.18865138]\n",
      " [ 2.56311785  0.16747399  2.99240736  0.15580677  0.428435  ]]\n"
     ]
    }
   ],
   "source": [
    "# 2次元配列を列成分で降順にソート\n",
    "s_xi = np.sort(xi, axis=0)[::-1]\n",
    "print(s_xi)"
   ]
  },
  {
   "cell_type": "code",
   "execution_count": null,
   "metadata": {},
   "outputs": [],
   "source": [
    "# 2次元配列の１行目が一番大きい値が入るようにスワップ\n"
   ]
  }
 ],
 "metadata": {
  "kernelspec": {
   "display_name": ".venv",
   "language": "python",
   "name": "python3"
  },
  "language_info": {
   "codemirror_mode": {
    "name": "ipython",
    "version": 3
   },
   "file_extension": ".py",
   "mimetype": "text/x-python",
   "name": "python",
   "nbconvert_exporter": "python",
   "pygments_lexer": "ipython3",
   "version": "3.12.2"
  }
 },
 "nbformat": 4,
 "nbformat_minor": 2
}
