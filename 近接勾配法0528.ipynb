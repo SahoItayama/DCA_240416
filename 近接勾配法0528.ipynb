{
 "cells": [
  {
   "cell_type": "code",
   "execution_count": 2,
   "metadata": {},
   "outputs": [],
   "source": [
    "import numpy as np\n",
    "import gurobipy as gp\n",
    "from gurobipy import GRB\n",
    "# timeのインポート\n",
    "import time"
   ]
  },
  {
   "cell_type": "code",
   "execution_count": 3,
   "metadata": {},
   "outputs": [],
   "source": [
    "np.random.seed(42)"
   ]
  },
  {
   "cell_type": "code",
   "execution_count": 4,
   "metadata": {},
   "outputs": [],
   "source": [
    "n_rows, n_cols = 40, 100\n",
    "n = 1000\n",
    "C = np.random.uniform(10, 50, size=(n_rows, n_cols))\n",
    "T = np.ones((1, n_rows))\n",
    "xi = []\n",
    "for _ in range(n):\n",
    "    mean = np.random.uniform(0, 10, n_cols)  # 平均ベクトルをランダムに生成\n",
    "    variance = np.random.uniform(1, 5, n_cols)  # 分散ベクトルをランダムに生成\n",
    "    consumer_demand = np.abs(np.random.normal(mean, np.sqrt(variance), n_cols))  # 正規分布に従うランダムベクトルを生成\n",
    "    xi.append(consumer_demand)\n",
    "xi = np.array(xi)\n",
    "M = np.array([100] * n_rows)"
   ]
  },
  {
   "cell_type": "code",
   "execution_count": 5,
   "metadata": {},
   "outputs": [],
   "source": [
    "lambda_ = 1.0\n",
    "alpha = 0.01\n",
    "max_iter = 1000\n",
    "tolerance = 1e-4\n",
    "K = 5"
   ]
  },
  {
   "cell_type": "code",
   "execution_count": 12,
   "metadata": {},
   "outputs": [],
   "source": [
    "# L1ノルムの計算\n",
    "def l1_norm(z):\n",
    "    return np.sum(np.abs(z))\n",
    "\n",
    "# 最大Kノルムの計算\n",
    "def lK_norm(z, K):\n",
    "    return np.sum(np.sort(np.abs(z))[:K])\n",
    "# np.sum(np.sort(np.abs(z))[:K])で小さい方からK番目までの和を計算\n",
    "\n",
    "# ソフト閾値作用素の計算\n",
    "def soft_thresholding(z, lambda_):\n",
    "        if z <= -lambda_:\n",
    "            return z + lambda_\n",
    "        elif z >= lambda_:\n",
    "            return z - lambda_\n",
    "        else:\n",
    "            return 0\n",
    "\n",
    "# プロキシ関数の計算\n",
    "# zの最大K要素のインデックス集合に含まれていればzを，含まれていなければソフト閾値作用素を適用したzを返す\n",
    "def prox_operator(z, lambda_, K):\n",
    "    sorted_indices = np.argsort(np.abs(z))[::-1]\n",
    "    top_K_indices = sorted_indices[:K]\n",
    "    z_prox = z.copy()\n",
    "    for i in range(len(z)):\n",
    "        if i not in top_K_indices:\n",
    "            z_prox[i] = soft_thresholding(z[i], lambda_)\n",
    "    return z_prox\n",
    "\n",
    "def objective_function(C, x, z, lambda_):\n",
    "    return np.sum(C.T @ x) + lambda_ * lK_norm(z, K)"
   ]
  },
  {
   "cell_type": "code",
   "execution_count": 17,
   "metadata": {},
   "outputs": [
    {
     "name": "stdout",
     "output_type": "stream",
     "text": [
      "[1, 2, 3, 4, 5, 4, 5]\n"
     ]
    }
   ],
   "source": [
    "z = [1, 2, 3, 4, 5, 4, 5]\n",
    "print(z)"
   ]
  },
  {
   "cell_type": "code",
   "execution_count": 18,
   "metadata": {},
   "outputs": [
    {
     "data": {
      "text/plain": [
       "24"
      ]
     },
     "execution_count": 18,
     "metadata": {},
     "output_type": "execute_result"
    }
   ],
   "source": [
    "l1_norm(z)"
   ]
  },
  {
   "cell_type": "code",
   "execution_count": 19,
   "metadata": {},
   "outputs": [
    {
     "data": {
      "text/plain": [
       "3"
      ]
     },
     "execution_count": 19,
     "metadata": {},
     "output_type": "execute_result"
    }
   ],
   "source": [
    "lK_norm(z, 2)"
   ]
  },
  {
   "cell_type": "code",
   "execution_count": 25,
   "metadata": {},
   "outputs": [],
   "source": [
    "def proximal_gradient_method(C, T, xi, lambda_, alpha, max_iter, tolerance, K):\n",
    "    n_rows, n_cols = C.shape\n",
    "    x = np.random.rand(n_rows, n_cols)\n",
    "    z = np.random.rand(xi.shape[0])\n",
    "\n",
    "    for k in range(max_iter):\n",
    "        # 勾配計算\n",
    "        grad_x = C\n",
    "        # grad_z = lambda_ * np.sign(z)\n",
    "\n",
    "        obj = objective_function(C, x, z, lambda_)\n",
    "\n",
    "        # 勾配降下ステップ\n",
    "        x_new = x - alpha * grad_x\n",
    "\n",
    "        # xに非負制約を課す\n",
    "        x_new = np.maximum(x_new, 0)\n",
    "\n",
    "        # 制約を満たすためのzの更新\n",
    "        v = T @ x_new\n",
    "        for i in range(n):\n",
    "            for j in range(n_cols):\n",
    "                if  v[0, j]< (1-z[i]) * xi[i, j]:\n",
    "                    z[i] = 1\n",
    "                else:\n",
    "                    z[i] = 0\n",
    "\n",
    "        # 供給制約を課す\n",
    "        for k in range(n_rows):\n",
    "            if np.sum(x_new[:, k]) > M[k]:\n",
    "                x_new[:, k] = x_new[:, k]  * (M[k] / np.sum(x_new[:, k]))\n",
    "\n",
    "        # 近接演算子の適用\n",
    "        z_new = prox_operator(z, lambda_, K)\n",
    "\n",
    "        obj_new = objective_function(C, x_new, z_new, lambda_)\n",
    "\n",
    "        # 収束判定\n",
    "        if np.abs(obj - obj_new) < tolerance:\n",
    "            print(f\"Converged at iteration {k}\")\n",
    "            break\n",
    "        x = x_new\n",
    "        z = z_new\n",
    "        obj = obj_new\n",
    "\n",
    "\n",
    "    return x, z, obj"
   ]
  },
  {
   "cell_type": "code",
   "execution_count": 26,
   "metadata": {},
   "outputs": [
    {
     "name": "stdout",
     "output_type": "stream",
     "text": [
      "5967389.625832581\n"
     ]
    }
   ],
   "source": [
    "def objective_function(C, x, z, lambda_):\n",
    "    return np.sum(C.T @ x) + lambda_ * lK_norm(z, K)\n",
    "\n",
    "x = np.random.rand(n_rows, n_cols)\n",
    "z = np.random.rand(xi.shape[0])\n",
    "obj = objective_function(C, x, z, lambda_)\n",
    "print(obj)"
   ]
  },
  {
   "cell_type": "code",
   "execution_count": 27,
   "metadata": {},
   "outputs": [
    {
     "name": "stdout",
     "output_type": "stream",
     "text": [
      "Converged at iteration 39\n",
      "Estimated X: [[0. 0. 0. ... 0. 0. 0.]\n",
      " [0. 0. 0. ... 0. 0. 0.]\n",
      " [0. 0. 0. ... 0. 0. 0.]\n",
      " ...\n",
      " [0. 0. 0. ... 0. 0. 0.]\n",
      " [0. 0. 0. ... 0. 0. 0.]\n",
      " [0. 0. 0. ... 0. 0. 0.]]\n",
      "Estimated Z: [0. 0. 0. 0. 0. 0. 0. 0. 0. 0. 0. 0. 0. 0. 0. 0. 0. 0. 0. 0. 0. 0. 0. 0.\n",
      " 0. 0. 0. 0. 0. 0. 0. 0. 0. 0. 0. 0. 0. 0. 0. 0. 0. 0. 0. 0. 0. 0. 0. 0.\n",
      " 0. 0. 0. 0. 0. 0. 0. 0. 0. 0. 0. 0. 0. 0. 0. 0. 0. 0. 0. 0. 0. 0. 0. 0.\n",
      " 0. 0. 0. 0. 0. 0. 0. 0. 0. 0. 0. 0. 0. 0. 0. 0. 0. 0. 0. 0. 0. 0. 0. 0.\n",
      " 0. 0. 0. 0. 0. 0. 0. 0. 0. 0. 0. 0. 0. 0. 0. 0. 0. 0. 0. 0. 0. 0. 0. 0.\n",
      " 0. 0. 0. 0. 0. 0. 0. 0. 0. 0. 0. 0. 0. 0. 0. 0. 0. 0. 1. 0. 0. 0. 0. 0.\n",
      " 0. 0. 0. 0. 0. 0. 0. 0. 0. 0. 0. 0. 0. 0. 0. 0. 0. 0. 0. 0. 0. 0. 0. 0.\n",
      " 0. 0. 0. 0. 0. 0. 0. 0. 0. 0. 0. 0. 0. 0. 0. 0. 0. 0. 0. 0. 0. 0. 0. 0.\n",
      " 0. 0. 0. 0. 0. 0. 0. 0. 0. 0. 0. 0. 0. 0. 0. 0. 0. 0. 0. 0. 1. 0. 0. 0.\n",
      " 0. 0. 0. 0. 0. 0. 0. 0. 0. 0. 0. 0. 0. 0. 0. 0. 0. 0. 0. 0. 0. 0. 0. 0.\n",
      " 0. 0. 0. 0. 0. 0. 0. 0. 0. 0. 0. 0. 0. 0. 0. 0. 0. 0. 0. 0. 0. 0. 0. 0.\n",
      " 0. 0. 0. 0. 0. 0. 0. 0. 0. 0. 0. 0. 0. 0. 0. 0. 0. 0. 0. 0. 0. 0. 0. 0.\n",
      " 0. 0. 0. 0. 0. 0. 0. 0. 0. 0. 0. 0. 0. 0. 0. 0. 0. 0. 0. 0. 0. 0. 0. 0.\n",
      " 0. 0. 0. 0. 0. 0. 0. 0. 0. 0. 0. 0. 0. 0. 0. 0. 0. 0. 0. 0. 0. 0. 0. 0.\n",
      " 0. 0. 0. 0. 0. 0. 0. 0. 0. 0. 0. 0. 0. 0. 0. 0. 1. 0. 0. 0. 0. 0. 0. 0.\n",
      " 0. 0. 0. 0. 0. 0. 0. 0. 0. 0. 0. 0. 0. 0. 0. 0. 0. 0. 0. 0. 0. 0. 0. 0.\n",
      " 0. 0. 0. 0. 0. 0. 0. 0. 0. 0. 0. 0. 0. 0. 0. 0. 0. 0. 0. 0. 0. 0. 0. 0.\n",
      " 0. 0. 0. 0. 0. 0. 0. 0. 0. 0. 0. 0. 0. 0. 0. 0. 0. 0. 0. 0. 0. 0. 0. 0.\n",
      " 0. 0. 0. 0. 0. 0. 0. 0. 0. 0. 0. 0. 0. 0. 0. 0. 0. 0. 0. 0. 0. 0. 0. 0.\n",
      " 0. 0. 0. 0. 0. 0. 0. 0. 0. 0. 0. 0. 0. 0. 0. 0. 0. 0. 0. 0. 0. 0. 0. 0.\n",
      " 0. 0. 0. 0. 0. 0. 0. 0. 0. 0. 0. 0. 0. 0. 0. 0. 0. 0. 0. 1. 0. 0. 0. 0.\n",
      " 0. 0. 0. 0. 0. 0. 0. 0. 0. 0. 0. 0. 0. 0. 0. 0. 0. 0. 0. 0. 0. 0. 0. 0.\n",
      " 0. 0. 0. 0. 0. 0. 0. 0. 0. 0. 0. 0. 0. 0. 0. 0. 0. 0. 0. 0. 0. 0. 0. 0.\n",
      " 0. 0. 0. 0. 0. 0. 0. 0. 0. 0. 0. 0. 0. 0. 0. 0. 0. 0. 0. 0. 0. 0. 0. 0.\n",
      " 0. 0. 0. 0. 0. 0. 0. 0. 0. 0. 0. 0. 0. 0. 0. 0. 0. 0. 0. 0. 0. 0. 0. 0.\n",
      " 0. 0. 0. 0. 0. 0. 0. 0. 0. 0. 0. 0. 0. 0. 0. 0. 0. 0. 0. 0. 0. 0. 0. 0.\n",
      " 0. 0. 0. 0. 0. 0. 0. 0. 0. 0. 0. 0. 0. 0. 0. 0. 0. 0. 0. 0. 0. 0. 0. 0.\n",
      " 0. 0. 0. 0. 0. 0. 0. 0. 0. 0. 0. 0. 0. 0. 0. 0. 0. 0. 0. 0. 0. 0. 0. 0.\n",
      " 0. 0. 0. 0. 0. 0. 0. 0. 0. 0. 0. 0. 0. 0. 0. 0. 0. 0. 0. 0. 0. 0. 0. 0.\n",
      " 0. 0. 0. 0. 0. 0. 0. 0. 0. 0. 0. 0. 0. 0. 0. 0. 0. 0. 0. 0. 0. 0. 0. 0.\n",
      " 0. 0. 0. 0. 0. 0. 0. 0. 0. 0. 0. 0. 0. 0. 0. 0. 0. 0. 0. 0. 0. 0. 0. 0.\n",
      " 0. 0. 0. 0. 0. 0. 0. 0. 0. 0. 0. 0. 0. 0. 0. 0. 0. 0. 0. 0. 0. 0. 0. 0.\n",
      " 0. 0. 0. 0. 0. 0. 0. 0. 0. 0. 0. 0. 0. 0. 0. 0. 0. 0. 0. 0. 0. 0. 0. 0.\n",
      " 0. 0. 0. 0. 0. 0. 0. 0. 0. 0. 0. 0. 0. 0. 0. 0. 0. 0. 0. 0. 0. 0. 0. 0.\n",
      " 0. 0. 0. 0. 0. 0. 0. 0. 0. 0. 0. 0. 0. 0. 0. 0. 0. 0. 0. 0. 0. 0. 0. 0.\n",
      " 0. 0. 0. 0. 1. 0. 0. 0. 0. 0. 0. 0. 0. 0. 0. 0. 0. 0. 0. 0. 0. 0. 0. 0.\n",
      " 0. 0. 0. 0. 0. 0. 0. 0. 0. 0. 0. 0. 0. 0. 0. 0. 0. 0. 0. 0. 0. 0. 0. 0.\n",
      " 0. 0. 0. 0. 0. 0. 0. 0. 0. 0. 0. 0. 0. 0. 0. 0. 0. 0. 0. 0. 0. 0. 0. 0.\n",
      " 0. 0. 0. 0. 0. 0. 0. 0. 0. 0. 0. 0. 0. 0. 0. 0. 0. 0. 0. 0. 0. 0. 0. 0.\n",
      " 0. 0. 0. 0. 0. 0. 0. 0. 0. 0. 0. 0. 0. 0. 0. 0. 0. 0. 0. 0. 0. 0. 0. 0.\n",
      " 0. 0. 0. 0. 0. 0. 0. 0. 0. 0. 0. 0. 0. 0. 0. 0. 0. 0. 0. 0. 0. 0. 0. 0.\n",
      " 0. 0. 0. 0. 0. 0. 0. 0. 0. 0. 0. 0. 0. 0. 0. 0.]\n",
      "0.0\n"
     ]
    }
   ],
   "source": [
    "x_estimated, z_estimated, _ = proximal_gradient_method(C, T, xi, lambda_, alpha, max_iter, tolerance, K)\n",
    "print(\"Estimated X:\", x_estimated)\n",
    "print(\"Estimated Z:\", z_estimated)\n",
    "print(np.sum(C.T @ x_estimated))"
   ]
  },
  {
   "cell_type": "code",
   "execution_count": 107,
   "metadata": {},
   "outputs": [
    {
     "name": "stdout",
     "output_type": "stream",
     "text": [
      "0.0\n"
     ]
    }
   ],
   "source": [
    "print(np.sum(C.T @ x_estimated))"
   ]
  },
  {
   "cell_type": "code",
   "execution_count": 28,
   "metadata": {},
   "outputs": [
    {
     "name": "stdout",
     "output_type": "stream",
     "text": [
      "5.0\n"
     ]
    }
   ],
   "source": [
    "# z_estimatedに含まれる1の数をカウント\n",
    "print(np.sum(z_estimated))"
   ]
  },
  {
   "cell_type": "code",
   "execution_count": 23,
   "metadata": {},
   "outputs": [
    {
     "name": "stdout",
     "output_type": "stream",
     "text": [
      "[[0.16438457 0.82695214 0.47144826 ... 0.78615866 0.96610922 0.53876057]\n",
      " [0.69787439 0.25172611 0.3331356  ... 0.85562444 0.40297005 0.83289373]\n",
      " [0.88602484 0.40679922 0.78842633 ... 0.87254545 0.81402135 0.93397844]\n",
      " ...\n",
      " [0.05254419 0.04383909 0.39326561 ... 0.58682135 0.53431615 0.33578677]\n",
      " [0.78042674 0.4835413  0.40440436 ... 0.05099072 0.57173778 0.47067494]\n",
      " [0.66036178 0.30840253 0.1507861  ... 0.14778021 0.07645942 0.52718289]]\n"
     ]
    }
   ],
   "source": [
    "x = np.random.rand(n_rows, n_cols)\n",
    "print(x)"
   ]
  },
  {
   "cell_type": "code",
   "execution_count": 24,
   "metadata": {},
   "outputs": [
    {
     "data": {
      "text/plain": [
       "array([0.16438457, 0.69787439, 0.88602484, 0.27407522, 0.37707189,\n",
       "       0.1372434 , 0.25263737, 0.97318157, 0.94714761, 0.93882302,\n",
       "       0.73481466, 0.90177116, 0.97685585, 0.87522301, 0.67548872,\n",
       "       0.19674396, 0.27886957, 0.95175346, 0.15390919, 0.02787795,\n",
       "       0.03646922, 0.94552003, 0.45675351, 0.92582551, 0.05623839,\n",
       "       0.67546559, 0.96577973, 0.761734  , 0.3370085 , 0.56689591,\n",
       "       0.48373795, 0.40064515, 0.2178461 , 0.70928579, 0.27462774,\n",
       "       0.2048223 , 0.78549466, 0.05254419, 0.78042674, 0.66036178])"
      ]
     },
     "execution_count": 24,
     "metadata": {},
     "output_type": "execute_result"
    }
   ],
   "source": [
    "x[:, 0]"
   ]
  },
  {
   "cell_type": "code",
   "execution_count": 34,
   "metadata": {},
   "outputs": [
    {
     "data": {
      "text/plain": [
       "array([21.7192542])"
      ]
     },
     "execution_count": 34,
     "metadata": {},
     "output_type": "execute_result"
    }
   ],
   "source": [
    "np.dot(T, x[:, 0])"
   ]
  },
  {
   "cell_type": "code",
   "execution_count": 37,
   "metadata": {},
   "outputs": [
    {
     "name": "stdout",
     "output_type": "stream",
     "text": [
      "[[21.7192542  20.60511549 19.92415038 21.96813086 19.33181797 20.96391537\n",
      "  19.02401427 18.77618362 20.08480686 20.97100437 20.75222335 19.19700366\n",
      "  21.14160784 22.97733758 19.73338445 19.67707031 21.21587174 16.79745017\n",
      "  16.33180617 20.73149574 19.61016219 18.03349607 20.65320792 18.95364257\n",
      "  16.33663593 18.88343262 18.30954911 16.86752428 19.84404412 19.71665946\n",
      "  20.83393144 20.97865728 19.18162326 21.58610459 20.91661877 17.71759242\n",
      "  18.88271056 20.79051544 20.11759247 18.24035686 18.54089064 22.29697663\n",
      "  17.2847903  19.33899776 22.15665851 21.76635775 19.46815911 17.87642747\n",
      "  21.69356759 18.22932009 21.33679318 20.86237091 17.90443861 21.4093848\n",
      "  19.58028375 20.36714403 22.04596184 20.07847842 16.07103291 23.5229644\n",
      "  20.80991376 18.14417407 19.38067616 21.62594263 21.18043718 17.45732854\n",
      "  21.52219993 21.44289852 19.06256277 20.29981537 19.15939346 18.17154839\n",
      "  18.4868753  20.38386767 18.89393388 19.96037344 20.12155865 18.24522139\n",
      "  20.2352711  21.05177505 21.31086617 20.76381427 18.19166662 21.44672434\n",
      "  21.299169   19.09312853 21.3502452  18.21465944 21.26727106 18.85749404\n",
      "  20.73493714 18.16393996 17.0281906  22.76540828 18.75731029 19.04447827\n",
      "  23.76606762 19.05663305 19.66103947 19.94683767]]\n"
     ]
    }
   ],
   "source": [
    "v = T @ x\n",
    "print(v)"
   ]
  },
  {
   "cell_type": "code",
   "execution_count": 39,
   "metadata": {},
   "outputs": [
    {
     "data": {
      "text/plain": [
       "21.719254196515955"
      ]
     },
     "execution_count": 39,
     "metadata": {},
     "output_type": "execute_result"
    }
   ],
   "source": [
    "v[0, 0]"
   ]
  },
  {
   "cell_type": "code",
   "execution_count": 26,
   "metadata": {},
   "outputs": [
    {
     "data": {
      "text/plain": [
       "array([5.04126479e+00, 8.73932240e+00, 7.50529322e+00, 2.58763600e-01,\n",
       "       3.15031371e+00, 7.11739088e+00, 4.04318092e+00, 3.09351094e+00,\n",
       "       3.48874012e+00, 1.03597496e+00, 2.33850793e+00, 4.74227312e+00,\n",
       "       6.96891986e+00, 1.24727496e+00, 4.40011449e+00, 3.88169201e+00,\n",
       "       1.08353421e+01, 6.45188127e+00, 4.96691666e+00, 3.42764421e+00,\n",
       "       6.17639242e+00, 4.15392040e-02, 4.06439567e+00, 7.94110658e+00,\n",
       "       7.75748409e+00, 1.17014147e+01, 5.33148871e+00, 1.03238528e+00,\n",
       "       5.86294820e+00, 4.83747834e+00, 5.31877793e+00, 4.93426863e+00,\n",
       "       2.69178373e-01, 1.29163011e+01, 2.80907816e+00, 9.74283393e+00,\n",
       "       8.74508829e+00, 7.42182976e+00, 7.41367277e+00, 5.91665856e+00,\n",
       "       7.74667628e+00, 2.68896518e+00, 4.76904146e+00, 1.76629994e+00,\n",
       "       5.10239494e+00, 2.41619312e+00, 1.93152695e+00, 2.91731771e+00,\n",
       "       4.95594214e+00, 7.35734935e-01, 8.48384809e+00, 8.84425568e+00,\n",
       "       7.20107626e+00, 5.83878572e+00, 8.36406564e+00, 2.96407464e-01,\n",
       "       8.04611166e+00, 2.10719187e+00, 1.20880489e+01, 1.31840969e+01,\n",
       "       1.73945543e-03, 9.17687012e-01, 7.15344644e+00, 9.99132551e-01,\n",
       "       9.59248585e+00, 1.35649568e-01, 4.29155549e+00, 1.11900231e+01,\n",
       "       7.05793476e+00, 9.67818044e+00, 4.68842587e+00, 5.51021661e+00,\n",
       "       4.58239013e+00, 6.16969488e+00, 8.65200824e+00, 6.06398861e+00,\n",
       "       1.41250453e+00, 1.10418234e+00, 7.57343871e+00, 2.14990955e+00,\n",
       "       1.01107799e+01, 3.29078150e-01, 7.22959528e+00, 9.70988483e+00,\n",
       "       4.99937320e+00, 1.60316108e-01, 1.91427625e+00, 7.09717925e+00,\n",
       "       8.87420656e+00, 2.57221439e-01, 8.21497581e+00, 1.95340577e+00,\n",
       "       5.96663041e+00, 9.53844676e+00, 2.90489087e+00, 7.35845069e+00,\n",
       "       5.71939674e-01, 2.26590647e-01, 5.90179823e+00, 1.27108400e+00])"
      ]
     },
     "execution_count": 26,
     "metadata": {},
     "output_type": "execute_result"
    }
   ],
   "source": [
    "xi[0]"
   ]
  },
  {
   "cell_type": "code",
   "execution_count": 27,
   "metadata": {},
   "outputs": [
    {
     "data": {
      "text/plain": [
       "array([[21.7192542 , 20.60511549, 19.92415038, 21.96813086, 19.33181797,\n",
       "        20.96391537, 19.02401427, 18.77618362, 20.08480686, 20.97100437,\n",
       "        20.75222335, 19.19700366, 21.14160784, 22.97733758, 19.73338445,\n",
       "        19.67707031, 21.21587174, 16.79745017, 16.33180617, 20.73149574,\n",
       "        19.61016219, 18.03349607, 20.65320792, 18.95364257, 16.33663593,\n",
       "        18.88343262, 18.30954911, 16.86752428, 19.84404412, 19.71665946,\n",
       "        20.83393144, 20.97865728, 19.18162326, 21.58610459, 20.91661877,\n",
       "        17.71759242, 18.88271056, 20.79051544, 20.11759247, 18.24035686,\n",
       "        18.54089064, 22.29697663, 17.2847903 , 19.33899776, 22.15665851,\n",
       "        21.76635775, 19.46815911, 17.87642747, 21.69356759, 18.22932009,\n",
       "        21.33679318, 20.86237091, 17.90443861, 21.4093848 , 19.58028375,\n",
       "        20.36714403, 22.04596184, 20.07847842, 16.07103291, 23.5229644 ,\n",
       "        20.80991376, 18.14417407, 19.38067616, 21.62594263, 21.18043718,\n",
       "        17.45732854, 21.52219993, 21.44289852, 19.06256277, 20.29981537,\n",
       "        19.15939346, 18.17154839, 18.4868753 , 20.38386767, 18.89393388,\n",
       "        19.96037344, 20.12155865, 18.24522139, 20.2352711 , 21.05177505,\n",
       "        21.31086617, 20.76381427, 18.19166662, 21.44672434, 21.299169  ,\n",
       "        19.09312853, 21.3502452 , 18.21465944, 21.26727106, 18.85749404,\n",
       "        20.73493714, 18.16393996, 17.0281906 , 22.76540828, 18.75731029,\n",
       "        19.04447827, 23.76606762, 19.05663305, 19.66103947, 19.94683767]])"
      ]
     },
     "execution_count": 27,
     "metadata": {},
     "output_type": "execute_result"
    }
   ],
   "source": [
    "T @ x"
   ]
  },
  {
   "cell_type": "code",
   "execution_count": 46,
   "metadata": {},
   "outputs": [
    {
     "name": "stdout",
     "output_type": "stream",
     "text": [
      "[1 0 1 0 0 1 0 1 1 1 0 1 1 0 0 0 0 0 1 1 1 0 1 0 0 1 1 1 1 0 1 0 1 0 0 0 1\n",
      " 0 1 1]\n",
      "[31 17 16 15 14 13 24 10 21 33 35  6 23  4  3 37  1 34 29 27  0 30 32 36\n",
      " 28 26 19 22 20 38 18 12 11  9  8  7  5  2 25 39]\n"
     ]
    }
   ],
   "source": [
    "z = np.random.randint(0, 2, size=n_rows)\n",
    "print(z)\n",
    "sorted_indices = np.argsort(np.abs(z))\n",
    "print(sorted_indices)"
   ]
  },
  {
   "cell_type": "code",
   "execution_count": 42,
   "metadata": {},
   "outputs": [
    {
     "data": {
      "text/plain": [
       "(1, 100)"
      ]
     },
     "execution_count": 42,
     "metadata": {},
     "output_type": "execute_result"
    }
   ],
   "source": [
    "v.shape"
   ]
  },
  {
   "cell_type": "code",
   "execution_count": 43,
   "metadata": {},
   "outputs": [
    {
     "data": {
      "text/plain": [
       "(1000, 100)"
      ]
     },
     "execution_count": 43,
     "metadata": {},
     "output_type": "execute_result"
    }
   ],
   "source": [
    "xi.shape"
   ]
  },
  {
   "cell_type": "code",
   "execution_count": 51,
   "metadata": {},
   "outputs": [
    {
     "name": "stdout",
     "output_type": "stream",
     "text": [
      "[ 2.11766401 -0.82855483 -0.73850172 -0.08412071  0.03978997  0.06324368\n",
      "  0.22570606  1.27352913  0.68288789  0.71534999]\n",
      "[0 7 9 8 6 5 4 3 2 1]\n"
     ]
    }
   ],
   "source": [
    "z_rand = np.random.randn(10)\n",
    "print(z_rand)\n",
    "sorted_indices = np.argsort(z_rand)[::-1]\n",
    "print(sorted_indices)"
   ]
  },
  {
   "cell_type": "code",
   "execution_count": 55,
   "metadata": {},
   "outputs": [
    {
     "name": "stdout",
     "output_type": "stream",
     "text": [
      "0\n",
      "2.1176640124207458\n",
      "7\n",
      "1.2735291309559527\n",
      "9\n",
      "0.7153499942215903\n",
      "8\n",
      "0.6828878870956991\n",
      "6\n",
      "0.22570606324878723\n",
      "5\n",
      "0.06324368197117668\n",
      "4\n",
      "0.03978996986452733\n",
      "3\n",
      "-0.08412071008103335\n",
      "2\n",
      "-0.7385017211954148\n",
      "1\n",
      "-0.8285548302626455\n"
     ]
    }
   ],
   "source": [
    "for i in sorted_indices:\n",
    "    print(i)\n",
    "    print(z_rand[i])"
   ]
  },
  {
   "cell_type": "code",
   "execution_count": 54,
   "metadata": {},
   "outputs": [
    {
     "data": {
      "text/plain": [
       "array([ 2.11766401,  1.27352913,  0.71534999,  0.68288789,  0.22570606,\n",
       "        0.06324368,  0.03978997, -0.08412071, -0.73850172, -0.82855483])"
      ]
     },
     "execution_count": 54,
     "metadata": {},
     "output_type": "execute_result"
    }
   ],
   "source": [
    "z_rand[sorted_indices]"
   ]
  },
  {
   "cell_type": "code",
   "execution_count": 60,
   "metadata": {},
   "outputs": [
    {
     "name": "stdout",
     "output_type": "stream",
     "text": [
      "[ 2.11766401 -0.82855483 -0.73850172 -0.08412071  0.03978997  0.06324368\n",
      "  0.22570606  1.27352913  0.68288789  0.71534999]\n"
     ]
    }
   ],
   "source": [
    "print(z_rand)"
   ]
  },
  {
   "cell_type": "code",
   "execution_count": 62,
   "metadata": {},
   "outputs": [
    {
     "data": {
      "text/plain": [
       "array([ 2.01766401, -0.72855483, -0.63850172,  0.        ,  0.        ,\n",
       "        0.        ,  0.12570606,  1.17352913,  0.58288789,  0.61534999])"
      ]
     },
     "execution_count": 62,
     "metadata": {},
     "output_type": "execute_result"
    }
   ],
   "source": [
    "soft_thresholding(z_rand,0.1)"
   ]
  },
  {
   "cell_type": "code",
   "execution_count": 91,
   "metadata": {},
   "outputs": [
    {
     "name": "stdout",
     "output_type": "stream",
     "text": [
      "[ 0.79621658 -0.61317463 -0.34479138  0.96643159 -0.63967167  0.41734225\n",
      "  0.25811987 -0.37749277  0.50772102 -0.82321583]\n",
      "[3 0 8 5 6 2 7 1 4 9]\n"
     ]
    },
    {
     "data": {
      "text/plain": [
       "array([ 0.79621658, -0.51317463, -0.24479138,  0.96643159, -0.53967167,\n",
       "        0.31734225,  0.15811987, -0.27749277,  0.40772102, -0.82321583])"
      ]
     },
     "execution_count": 91,
     "metadata": {},
     "output_type": "execute_result"
    }
   ],
   "source": [
    "z_rand = np.random.randn(10)\n",
    "print(z_rand)\n",
    "sorted_indices = np.argsort(z_rand)[::-1]\n",
    "print(sorted_indices)\n",
    "prox_operator(z_rand, 0.1, 2)"
   ]
  },
  {
   "cell_type": "code",
   "execution_count": 70,
   "metadata": {},
   "outputs": [
    {
     "data": {
      "text/plain": [
       "False"
      ]
     },
     "execution_count": 70,
     "metadata": {},
     "output_type": "execute_result"
    }
   ],
   "source": [
    "sorted_indices[0] <= 0"
   ]
  },
  {
   "cell_type": "code",
   "execution_count": 94,
   "metadata": {},
   "outputs": [
    {
     "name": "stdout",
     "output_type": "stream",
     "text": [
      "[4 2 3 1 0]\n"
     ]
    },
    {
     "data": {
      "text/plain": [
       "[0.9, 1.9, 4, 2.9, 5]"
      ]
     },
     "execution_count": 94,
     "metadata": {},
     "output_type": "execute_result"
    }
   ],
   "source": [
    "z_int = [1, 2, 4, 3, 5]\n",
    "s = np.argsort(z_int)[::-1]\n",
    "print(s)\n",
    "prox_operator(z_int, 0.1, 2)"
   ]
  },
  {
   "cell_type": "code",
   "execution_count": 87,
   "metadata": {},
   "outputs": [
    {
     "name": "stdout",
     "output_type": "stream",
     "text": [
      "1.1\n",
      "2.1\n",
      "4.1\n",
      "3.1\n",
      "5.1\n"
     ]
    }
   ],
   "source": [
    "for i in range(len(z_int)):\n",
    "    print(z_int[i] + 0.1)"
   ]
  },
  {
   "cell_type": "markdown",
   "metadata": {},
   "source": [
    "DCAの劣勾配計算"
   ]
  },
  {
   "cell_type": "code",
   "execution_count": 35,
   "metadata": {},
   "outputs": [],
   "source": [
    "def calculate_subgradient(w, K):\n",
    "    n = len(w)\n",
    "    s = np.zeros(n)\n",
    "    w = np.sort(np.abs(w))[::-1]\n",
    "    s[:K] = np.sign(w[:K])\n",
    "    return w, s"
   ]
  },
  {
   "cell_type": "code",
   "execution_count": 36,
   "metadata": {},
   "outputs": [
    {
     "name": "stdout",
     "output_type": "stream",
     "text": [
      "[ 0.49671415 -0.1382643   0.64768854  1.52302986 -0.23415337 -0.23413696\n",
      "  1.57921282  0.76743473 -0.46947439  0.54256004]\n"
     ]
    }
   ],
   "source": [
    "np.random.seed(42)\n",
    "w = np.random.randn(10)\n",
    "print(w)"
   ]
  },
  {
   "cell_type": "code",
   "execution_count": 37,
   "metadata": {},
   "outputs": [
    {
     "data": {
      "text/plain": [
       "(array([1.57921282, 1.52302986, 0.76743473, 0.64768854, 0.54256004,\n",
       "        0.49671415, 0.46947439, 0.23415337, 0.23413696, 0.1382643 ]),\n",
       " array([1., 1., 1., 0., 0., 0., 0., 0., 0., 0.]))"
      ]
     },
     "execution_count": 37,
     "metadata": {},
     "output_type": "execute_result"
    }
   ],
   "source": [
    "calculate_subgradient(w, 3)"
   ]
  },
  {
   "cell_type": "code",
   "execution_count": 38,
   "metadata": {},
   "outputs": [
    {
     "data": {
      "text/plain": [
       "numpy.ndarray"
      ]
     },
     "execution_count": 38,
     "metadata": {},
     "output_type": "execute_result"
    }
   ],
   "source": [
    "type(np.random.rand(10))"
   ]
  },
  {
   "cell_type": "code",
   "execution_count": 39,
   "metadata": {},
   "outputs": [
    {
     "data": {
      "text/plain": [
       "numpy.ndarray"
      ]
     },
     "execution_count": 39,
     "metadata": {},
     "output_type": "execute_result"
    }
   ],
   "source": [
    "type(np.array([1, 2, 3]))"
   ]
  },
  {
   "cell_type": "code",
   "execution_count": null,
   "metadata": {},
   "outputs": [],
   "source": []
  }
 ],
 "metadata": {
  "kernelspec": {
   "display_name": ".venv",
   "language": "python",
   "name": "python3"
  },
  "language_info": {
   "codemirror_mode": {
    "name": "ipython",
    "version": 3
   },
   "file_extension": ".py",
   "mimetype": "text/x-python",
   "name": "python",
   "nbconvert_exporter": "python",
   "pygments_lexer": "ipython3",
   "version": "3.12.2"
  }
 },
 "nbformat": 4,
 "nbformat_minor": 2
}
