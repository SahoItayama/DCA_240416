{
 "cells": [
  {
   "cell_type": "code",
   "execution_count": 14,
   "metadata": {},
   "outputs": [],
   "source": [
    "import numpy as np\n",
    "\n",
    "def process_vector(w, K):\n",
    "    w = np.asarray(w, dtype=float)\n",
    "    # print(\"w\", w)\n",
    "    # wを減少順に並べ替える\n",
    "    sorted_indices = np.argsort(-np.abs(w))\n",
    "    sorted_w = np.abs(w[sorted_indices])\n",
    "    print(\"sorted indices\", sorted_indices)\n",
    "    print(\"sorted_w\", sorted_w)\n",
    "\n",
    "    # w(i)をK番目まで1、それ以外を0にする\n",
    "    s = np.zeros_like(w)\n",
    "    s[sorted_indices[:K]] = 1\n",
    "    print(w[sorted_indices[:K]])\n",
    "    print(\"s\", s)\n",
    "\n",
    "    return sorted_w, s"
   ]
  },
  {
   "cell_type": "code",
   "execution_count": 16,
   "metadata": {},
   "outputs": [
    {
     "name": "stdout",
     "output_type": "stream",
     "text": [
      "sorted indices [1 4 3 0 2]\n",
      "sorted_w [1.2 1.  0.4 0.1 0. ]\n",
      "[1.2 1.  0.4 0.1]\n",
      "s [1. 1. 0. 1. 1.]\n"
     ]
    },
    {
     "data": {
      "text/plain": [
       "(array([1.2, 1. , 0.4, 0.1, 0. ]), array([1., 1., 0., 1., 1.]))"
      ]
     },
     "execution_count": 16,
     "metadata": {},
     "output_type": "execute_result"
    }
   ],
   "source": [
    "z = [0.1, 1.2, 0, 0.4, 1]\n",
    "process_vector(z, 4)"
   ]
  },
  {
   "cell_type": "code",
   "execution_count": 3,
   "metadata": {},
   "outputs": [
    {
     "data": {
      "text/plain": [
       "(array([1., 1., 0., 0., 0.]), array([0., 1., 0., 0., 1.]))"
      ]
     },
     "execution_count": 3,
     "metadata": {},
     "output_type": "execute_result"
    }
   ],
   "source": [
    "z = [0, 1, 0, 0, 1]\n",
    "process_vector(z, 3)"
   ]
  },
  {
   "cell_type": "code",
   "execution_count": 17,
   "metadata": {},
   "outputs": [
    {
     "name": "stdout",
     "output_type": "stream",
     "text": [
      "Set parameter Username\n",
      "Academic license - for non-commercial use only - expires 2025-04-16\n",
      "Gurobi Optimizer version 11.0.1 build v11.0.1rc0 (mac64[rosetta2] - Darwin 23.5.0 23F79)\n",
      "\n",
      "CPU model: Apple M3\n",
      "Thread count: 8 physical cores, 8 logical processors, using up to 8 threads\n",
      "\n",
      "Optimize a model with 2 rows, 10 columns and 10 nonzeros\n",
      "Model fingerprint: 0x2bd434ab\n",
      "Model has 5 general constraints\n",
      "Variable types: 10 continuous, 0 integer (0 binary)\n",
      "Coefficient statistics:\n",
      "  Matrix range     [1e+00, 1e+00]\n",
      "  Objective range  [3e-01, 1e+00]\n",
      "  Bounds range     [1e+00, 1e+00]\n",
      "  RHS range        [2e+00, 2e+00]\n",
      "Presolve added 15 rows and 10 columns\n",
      "Presolve time: 0.01s\n",
      "Presolved: 17 rows, 20 columns, 45 nonzeros\n",
      "Variable types: 15 continuous, 5 integer (5 binary)\n",
      "Found heuristic solution: objective -0.1000000\n",
      "\n",
      "Root relaxation: objective 1.200000e+00, 9 iterations, 0.00 seconds (0.00 work units)\n",
      "\n",
      "    Nodes    |    Current Node    |     Objective Bounds      |     Work\n",
      " Expl Unexpl |  Obj  Depth IntInf | Incumbent    BestBd   Gap | It/Node Time\n",
      "\n",
      "*    0     0               0       1.2000000    1.20000  0.00%     -    0s\n",
      "\n",
      "Explored 1 nodes (9 simplex iterations) in 0.02 seconds (0.00 work units)\n",
      "Thread count was 8 (of 8 available processors)\n",
      "\n",
      "Solution count 2: 1.2 -0.1 \n",
      "\n",
      "Optimal solution found (tolerance 1.00e-04)\n",
      "Best objective 1.200000000000e+00, best bound 1.200000000000e+00, gap 0.0000%\n",
      "Optimal s: [1.0, 0.0, 0.0, 1.0, 0.0]\n"
     ]
    }
   ],
   "source": [
    "import gurobipy as gp\n",
    "from gurobipy import GRB\n",
    "\n",
    "def solve_subproblem(wt, K):\n",
    "    n = len(wt)\n",
    "\n",
    "    # Gurobiモデルの作成\n",
    "    model = gp.Model(\"subproblem\")\n",
    "\n",
    "    # 変数 s_i を追加\n",
    "    s = model.addVars(n, lb=-1, ub=1, name=\"s\")\n",
    "\n",
    "    # 目的関数を設定\n",
    "    model.setObjective(gp.quicksum(wt[i] * s[i] for i in range(n)), GRB.MAXIMIZE)\n",
    "\n",
    "    # 制約: sum |s_i| = K\n",
    "    model.addConstr(gp.quicksum(s[i] for i in range(n)) == K, \"abs_sum\")\n",
    "\n",
    "    # 絶対値制約を設定\n",
    "    abs_s = model.addVars(n, lb=0, ub=1, name=\"abs_s\")\n",
    "    for i in range(n):\n",
    "        model.addConstr(abs_s[i] == gp.abs_(s[i]))\n",
    "\n",
    "    # 制約: sum abs(s_i) = K\n",
    "    model.addConstr(gp.quicksum(abs_s[i] for i in range(n)) == K, \"abs_sum\")\n",
    "\n",
    "    # 最適化の実行\n",
    "    model.optimize()\n",
    "\n",
    "    # 最適解の取得\n",
    "    if model.status == GRB.OPTIMAL:\n",
    "        s_opt = [s[i].x for i in range(n)]\n",
    "        return s_opt\n",
    "    else:\n",
    "        raise Exception(\"Optimal solution not found\")\n",
    "\n",
    "# 使用例\n",
    "wt = [0.5, -1.2, 0.3, 0.7, -0.4]\n",
    "K = 2\n",
    "s_opt = solve_subproblem(wt, K)\n",
    "print(\"Optimal s:\", s_opt)"
   ]
  },
  {
   "cell_type": "code",
   "execution_count": 18,
   "metadata": {},
   "outputs": [
    {
     "name": "stdout",
     "output_type": "stream",
     "text": [
      "sorted indices [1 3 0 4 2]\n",
      "sorted_w [1.2 0.7 0.5 0.4 0.3]\n",
      "[-1.2  0.7]\n",
      "s [0. 1. 0. 1. 0.]\n"
     ]
    },
    {
     "data": {
      "text/plain": [
       "(array([1.2, 0.7, 0.5, 0.4, 0.3]), array([0., 1., 0., 1., 0.]))"
      ]
     },
     "execution_count": 18,
     "metadata": {},
     "output_type": "execute_result"
    }
   ],
   "source": [
    "process_vector(wt, 2)"
   ]
  },
  {
   "cell_type": "code",
   "execution_count": 20,
   "metadata": {},
   "outputs": [
    {
     "name": "stdout",
     "output_type": "stream",
     "text": [
      "Gurobi Optimizer version 11.0.1 build v11.0.1rc0 (mac64[rosetta2] - Darwin 23.5.0 23F79)\n",
      "\n",
      "CPU model: Apple M3\n",
      "Thread count: 8 physical cores, 8 logical processors, using up to 8 threads\n",
      "\n",
      "Optimize a model with 1 rows, 10 columns and 5 nonzeros\n",
      "Model fingerprint: 0x9bf7f552\n",
      "Model has 5 general constraints\n",
      "Variable types: 10 continuous, 0 integer (0 binary)\n",
      "Coefficient statistics:\n",
      "  Matrix range     [1e+00, 1e+00]\n",
      "  Objective range  [3e-01, 1e+00]\n",
      "  Bounds range     [1e+00, 1e+00]\n",
      "  RHS range        [2e+00, 2e+00]\n",
      "Presolve added 15 rows and 10 columns\n",
      "Presolve time: 0.00s\n",
      "Presolved: 16 rows, 20 columns, 40 nonzeros\n",
      "Variable types: 15 continuous, 5 integer (5 binary)\n",
      "Found heuristic solution: objective -0.1000000\n",
      "\n",
      "Root relaxation: objective 1.900000e+00, 8 iterations, 0.00 seconds (0.00 work units)\n",
      "\n",
      "    Nodes    |    Current Node    |     Objective Bounds      |     Work\n",
      " Expl Unexpl |  Obj  Depth IntInf | Incumbent    BestBd   Gap | It/Node Time\n",
      "\n",
      "*    0     0               0       1.9000000    1.90000  0.00%     -    0s\n",
      "\n",
      "Explored 1 nodes (8 simplex iterations) in 0.02 seconds (0.00 work units)\n",
      "Thread count was 8 (of 8 available processors)\n",
      "\n",
      "Solution count 2: 1.9 -0.1 \n",
      "\n",
      "Optimal solution found (tolerance 1.00e-04)\n",
      "Best objective 1.900000000000e+00, best bound 1.900000000000e+00, gap 0.0000%\n",
      "Optimal s: [0.0, -1.0, 0.0, 1.0, 0.0]\n"
     ]
    }
   ],
   "source": [
    "import gurobipy as gp\n",
    "from gurobipy import GRB\n",
    "\n",
    "def solve_subproblem(wt, K):\n",
    "    n = len(wt)\n",
    "\n",
    "    # Gurobiモデルの作成\n",
    "    model = gp.Model(\"subproblem\")\n",
    "\n",
    "    # 変数 s_i を追加\n",
    "    s = model.addVars(n, lb=-1, ub=1, name=\"s\")\n",
    "\n",
    "    # 目的関数を設定\n",
    "    model.setObjective(gp.quicksum(wt[i] * s[i] for i in range(n)), GRB.MAXIMIZE)\n",
    "\n",
    "    # 制約: sum |s_i| = K\n",
    "    # model.addConstr(gp.quicksum(s[i] for i in range(n)) == K, \"abs_sum\")\n",
    "\n",
    "    # 絶対値制約を設定\n",
    "    abs_s = model.addVars(n, lb=0, ub=1, name=\"abs_s\")\n",
    "    for i in range(n):\n",
    "        model.addConstr(abs_s[i] == gp.abs_(s[i]))\n",
    "\n",
    "    # 制約: sum abs(s_i) = K\n",
    "    model.addConstr(gp.quicksum(abs_s[i] for i in range(n)) == K, \"abs_sum\")\n",
    "\n",
    "    # 最適化の実行\n",
    "    model.optimize()\n",
    "\n",
    "    # 最適解の取得\n",
    "    if model.status == GRB.OPTIMAL:\n",
    "        s_opt = [s[i].x for i in range(n)]\n",
    "        return s_opt\n",
    "    else:\n",
    "        raise Exception(\"Optimal solution not found\")\n",
    "\n",
    "# 使用例\n",
    "wt = [0.5, -1.2, 0.3, 0.7, -0.4]\n",
    "K = 2\n",
    "s_opt = solve_subproblem(wt, K)\n",
    "print(\"Optimal s:\", s_opt)"
   ]
  },
  {
   "cell_type": "code",
   "execution_count": 21,
   "metadata": {},
   "outputs": [
    {
     "ename": "TypeError",
     "evalue": "unsupported operand type(s) for +=: 'gurobipy.LinExpr' and 'GenExprAbs'",
     "output_type": "error",
     "traceback": [
      "\u001b[0;31m---------------------------------------------------------------------------\u001b[0m",
      "\u001b[0;31mTypeError\u001b[0m                                 Traceback (most recent call last)",
      "Cell \u001b[0;32mIn[21], line 32\u001b[0m\n\u001b[1;32m     30\u001b[0m w \u001b[38;5;241m=\u001b[39m [\u001b[38;5;241m0.5\u001b[39m, \u001b[38;5;241m-\u001b[39m\u001b[38;5;241m1.2\u001b[39m, \u001b[38;5;241m0.3\u001b[39m, \u001b[38;5;241m0.7\u001b[39m, \u001b[38;5;241m-\u001b[39m\u001b[38;5;241m0.4\u001b[39m]\n\u001b[1;32m     31\u001b[0m K \u001b[38;5;241m=\u001b[39m \u001b[38;5;241m2\u001b[39m\n\u001b[0;32m---> 32\u001b[0m s_opt \u001b[38;5;241m=\u001b[39m \u001b[43msolve_argmax\u001b[49m\u001b[43m(\u001b[49m\u001b[43mw\u001b[49m\u001b[43m,\u001b[49m\u001b[43m \u001b[49m\u001b[43mK\u001b[49m\u001b[43m)\u001b[49m\n\u001b[1;32m     33\u001b[0m \u001b[38;5;28mprint\u001b[39m(\u001b[38;5;124m\"\u001b[39m\u001b[38;5;124mOptimal s:\u001b[39m\u001b[38;5;124m\"\u001b[39m, s_opt)\n",
      "Cell \u001b[0;32mIn[21], line 17\u001b[0m, in \u001b[0;36msolve_argmax\u001b[0;34m(w, K)\u001b[0m\n\u001b[1;32m     14\u001b[0m model\u001b[38;5;241m.\u001b[39msetObjective(gp\u001b[38;5;241m.\u001b[39mquicksum(w[i] \u001b[38;5;241m*\u001b[39m s[i] \u001b[38;5;28;01mfor\u001b[39;00m i \u001b[38;5;129;01min\u001b[39;00m \u001b[38;5;28mrange\u001b[39m(n)), GRB\u001b[38;5;241m.\u001b[39mMAXIMIZE)\n\u001b[1;32m     16\u001b[0m \u001b[38;5;66;03m# 制約: Σ|s_i| = K\u001b[39;00m\n\u001b[0;32m---> 17\u001b[0m model\u001b[38;5;241m.\u001b[39maddConstr(\u001b[43mgp\u001b[49m\u001b[38;5;241;43m.\u001b[39;49m\u001b[43mquicksum\u001b[49m\u001b[43m(\u001b[49m\u001b[43mgp\u001b[49m\u001b[38;5;241;43m.\u001b[39;49m\u001b[43mabs_\u001b[49m\u001b[43m(\u001b[49m\u001b[43ms\u001b[49m\u001b[43m[\u001b[49m\u001b[43mi\u001b[49m\u001b[43m]\u001b[49m\u001b[43m)\u001b[49m\u001b[43m \u001b[49m\u001b[38;5;28;43;01mfor\u001b[39;49;00m\u001b[43m \u001b[49m\u001b[43mi\u001b[49m\u001b[43m \u001b[49m\u001b[38;5;129;43;01min\u001b[39;49;00m\u001b[43m \u001b[49m\u001b[38;5;28;43mrange\u001b[39;49m\u001b[43m(\u001b[49m\u001b[43mn\u001b[49m\u001b[43m)\u001b[49m\u001b[43m)\u001b[49m \u001b[38;5;241m==\u001b[39m K, \u001b[38;5;124m\"\u001b[39m\u001b[38;5;124mabs_sum\u001b[39m\u001b[38;5;124m\"\u001b[39m)\n\u001b[1;32m     19\u001b[0m \u001b[38;5;66;03m# 最適化の実行\u001b[39;00m\n\u001b[1;32m     20\u001b[0m model\u001b[38;5;241m.\u001b[39moptimize()\n",
      "File \u001b[0;32msrc/gurobipy/gurobi.pxi:3843\u001b[0m, in \u001b[0;36mgurobipy.quicksum\u001b[0;34m()\u001b[0m\n",
      "\u001b[0;31mTypeError\u001b[0m: unsupported operand type(s) for +=: 'gurobipy.LinExpr' and 'GenExprAbs'"
     ]
    }
   ],
   "source": [
    "import gurobipy as gp\n",
    "from gurobipy import GRB\n",
    "\n",
    "def solve_argmax(w, K):\n",
    "    n = len(w)\n",
    "\n",
    "    # Gurobiモデルの作成\n",
    "    model = gp.Model(\"argmax_s\")\n",
    "\n",
    "    # 変数 s_i を追加\n",
    "    s = model.addVars(n, lb=-1, ub=1, name=\"s\")\n",
    "\n",
    "    # 目的関数を設定\n",
    "    model.setObjective(gp.quicksum(w[i] * s[i] for i in range(n)), GRB.MAXIMIZE)\n",
    "\n",
    "    # 制約: Σ|s_i| = K\n",
    "    model.addConstr(gp.quicksum(gp.abs_(s[i]) for i in range(n)) == K, \"abs_sum\")\n",
    "\n",
    "    # 最適化の実行\n",
    "    model.optimize()\n",
    "\n",
    "    # 最適解の取得\n",
    "    if model.status == GRB.OPTIMAL:\n",
    "        s_opt = [s[i].x for i in range(n)]\n",
    "        return s_opt\n",
    "    else:\n",
    "        raise Exception(\"Optimal solution not found\")\n",
    "\n",
    "# 使用例\n",
    "w = [0.5, -1.2, 0.3, 0.7, -0.4]\n",
    "K = 2\n",
    "s_opt = solve_argmax(w, K)\n",
    "print(\"Optimal s:\", s_opt)"
   ]
  },
  {
   "cell_type": "code",
   "execution_count": 23,
   "metadata": {},
   "outputs": [
    {
     "ename": "TypeError",
     "evalue": "unsupported operand type(s) for +=: 'gurobipy.LinExpr' and 'GenExprAbs'",
     "output_type": "error",
     "traceback": [
      "\u001b[0;31m---------------------------------------------------------------------------\u001b[0m",
      "\u001b[0;31mTypeError\u001b[0m                                 Traceback (most recent call last)",
      "Cell \u001b[0;32mIn[23], line 30\u001b[0m\n\u001b[1;32m     28\u001b[0m w \u001b[38;5;241m=\u001b[39m [\u001b[38;5;241m1\u001b[39m, \u001b[38;5;241m2\u001b[39m, \u001b[38;5;241m3\u001b[39m, \u001b[38;5;241m4\u001b[39m, \u001b[38;5;241m5\u001b[39m]\n\u001b[1;32m     29\u001b[0m K \u001b[38;5;241m=\u001b[39m \u001b[38;5;241m3\u001b[39m\n\u001b[0;32m---> 30\u001b[0m optimal_s \u001b[38;5;241m=\u001b[39m \u001b[43margmax_s\u001b[49m\u001b[43m(\u001b[49m\u001b[43mn\u001b[49m\u001b[43m,\u001b[49m\u001b[43m \u001b[49m\u001b[43mw\u001b[49m\u001b[43m,\u001b[49m\u001b[43m \u001b[49m\u001b[43mK\u001b[49m\u001b[43m)\u001b[49m\n\u001b[1;32m     31\u001b[0m \u001b[38;5;28mprint\u001b[39m(\u001b[38;5;124m\"\u001b[39m\u001b[38;5;124mOptimal s:\u001b[39m\u001b[38;5;124m\"\u001b[39m, optimal_s)\n",
      "Cell \u001b[0;32mIn[23], line 14\u001b[0m, in \u001b[0;36margmax_s\u001b[0;34m(n, w, K)\u001b[0m\n\u001b[1;32m     11\u001b[0m model\u001b[38;5;241m.\u001b[39msetObjective(obj, GRB\u001b[38;5;241m.\u001b[39mMAXIMIZE)\n\u001b[1;32m     13\u001b[0m \u001b[38;5;66;03m# Add constraint\u001b[39;00m\n\u001b[0;32m---> 14\u001b[0m model\u001b[38;5;241m.\u001b[39maddConstr(\u001b[43mgp\u001b[49m\u001b[38;5;241;43m.\u001b[39;49m\u001b[43mquicksum\u001b[49m\u001b[43m(\u001b[49m\u001b[43mgp\u001b[49m\u001b[38;5;241;43m.\u001b[39;49m\u001b[43mabs_\u001b[49m\u001b[43m(\u001b[49m\u001b[43ms\u001b[49m\u001b[43m[\u001b[49m\u001b[43mi\u001b[49m\u001b[43m]\u001b[49m\u001b[43m)\u001b[49m\u001b[43m \u001b[49m\u001b[38;5;28;43;01mfor\u001b[39;49;00m\u001b[43m \u001b[49m\u001b[43mi\u001b[49m\u001b[43m \u001b[49m\u001b[38;5;129;43;01min\u001b[39;49;00m\u001b[43m \u001b[49m\u001b[38;5;28;43mrange\u001b[39;49m\u001b[43m(\u001b[49m\u001b[43mn\u001b[49m\u001b[43m)\u001b[49m\u001b[43m)\u001b[49m \u001b[38;5;241m==\u001b[39m K, \u001b[38;5;124m\"\u001b[39m\u001b[38;5;124mconstraint\u001b[39m\u001b[38;5;124m\"\u001b[39m)\n\u001b[1;32m     16\u001b[0m \u001b[38;5;66;03m# Optimize model\u001b[39;00m\n\u001b[1;32m     17\u001b[0m model\u001b[38;5;241m.\u001b[39moptimize()\n",
      "File \u001b[0;32msrc/gurobipy/gurobi.pxi:3843\u001b[0m, in \u001b[0;36mgurobipy.quicksum\u001b[0;34m()\u001b[0m\n",
      "\u001b[0;31mTypeError\u001b[0m: unsupported operand type(s) for +=: 'gurobipy.LinExpr' and 'GenExprAbs'"
     ]
    }
   ],
   "source": [
    "def argmax_s(n, w, K):\n",
    "    model = gp.Model(\"argmax_s\")\n",
    "    \n",
    "    # Create variables\n",
    "    s = model.addVars(n, lb=-1, ub=1, vtype=GRB.CONTINUOUS, name=\"s\")\n",
    "    \n",
    "    # Set objective function\n",
    "    obj = gp.LinExpr()\n",
    "    for i in range(n):\n",
    "        obj += w[i] * s[i]\n",
    "    model.setObjective(obj, GRB.MAXIMIZE)\n",
    "    \n",
    "    # Add constraint\n",
    "    model.addConstr(gp.quicksum(gp.abs_(s[i]) for i in range(n)) == K, \"constraint\")\n",
    "    \n",
    "    # Optimize model\n",
    "    model.optimize()\n",
    "    \n",
    "    # Get optimal solution\n",
    "    if model.status == GRB.OPTIMAL:\n",
    "        optimal_s = [s[i].x for i in range(n)]\n",
    "        return optimal_s\n",
    "    else:\n",
    "        return None\n",
    "\n",
    "# Example usage\n",
    "n = 5\n",
    "w = [1, 2, 3, 4, 5]\n",
    "K = 3\n",
    "optimal_s = argmax_s(n, w, K)\n",
    "print(\"Optimal s:\", optimal_s)"
   ]
  },
  {
   "cell_type": "code",
   "execution_count": null,
   "metadata": {},
   "outputs": [],
   "source": []
  }
 ],
 "metadata": {
  "kernelspec": {
   "display_name": ".venv",
   "language": "python",
   "name": "python3"
  },
  "language_info": {
   "codemirror_mode": {
    "name": "ipython",
    "version": 3
   },
   "file_extension": ".py",
   "mimetype": "text/x-python",
   "name": "python",
   "nbconvert_exporter": "python",
   "pygments_lexer": "ipython3",
   "version": "3.12.2"
  }
 },
 "nbformat": 4,
 "nbformat_minor": 2
}
