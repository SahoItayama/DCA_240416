{
 "cells": [
  {
   "cell_type": "code",
   "execution_count": 8,
   "metadata": {},
   "outputs": [],
   "source": [
    "import gurobipy as gp\n",
    "from gurobipy import GRB\n",
    "import numpy as np\n",
    "import time\n",
    "from tqdm import tqdm"
   ]
  },
  {
   "cell_type": "markdown",
   "metadata": {},
   "source": [
    "DCA"
   ]
  },
  {
   "cell_type": "code",
   "execution_count": 66,
   "metadata": {},
   "outputs": [],
   "source": [
    "# f^t = cx+ρ(|z|_1)-zs_z^{t-1}の計算\n",
    "def solve_main(T, C, M, xi, rho, s_z_t_minus_1):\n",
    "    '''\n",
    "    DCアルゴリズムによる最適化問題の解法\n",
    "    K：供給者数\n",
    "    J：需要者数\n",
    "    n：シナリオ数\n",
    "    '''\n",
    "\n",
    "    K, J = C.shape\n",
    "    n = len(xi) \n",
    "\n",
    "    # モデルの作成\n",
    "    model = gp.Model(\"dca\")\n",
    "\n",
    "    # 変数の設定\n",
    "    X = model.addMVar((K, J), lb=0.0, vtype=GRB.CONTINUOUS, name=\"X\")\n",
    "    z = model.addVars(n, lb=0.0, ub=1.0, vtype=GRB.CONTINUOUS, name=\"z\")\n",
    "\n",
    "    # 目的関数の設定\n",
    "    objective = gp.quicksum(C[k, j] * X[k, j] for k in range(K) for j in range(J)) + rho * gp.quicksum(z[t] for t in range(n)) - gp.quicksum(z[t] * s_z_t_minus_1[t] for t in range(n))\n",
    "    model.setObjective(objective, GRB.MINIMIZE)\n",
    "\n",
    "    # 制約条件の設定\n",
    "    for i in range(n):\n",
    "        model.addConstr(T @ X >= (1 - z[i]) * np.array(list(xi[i])))\n",
    "\n",
    "    for k in range(K):\n",
    "        model.addConstr(gp.quicksum(X[k, j] for j in range(J)) <= M[k])\n",
    "\n",
    "    # 時間上限の設定\n",
    "    model.Params.TimeLimit = 300\n",
    "\n",
    "    # 最適化\n",
    "    model.optimize()\n",
    "\n",
    "    # 結果の取得\n",
    "    if model.status == GRB.OPTIMAL:\n",
    "        optimal_X = np.array([[X[k, j].x for k in range(K)] for j in range(J)])\n",
    "        optimal_z = np.array([z[i].x for i in range(n)])\n",
    "        optimal_value = model.objVal\n",
    "        return optimal_X, optimal_z, optimal_value\n",
    "    else:\n",
    "        print(\"最適解が得られませんでした\")\n",
    "        return None, None, None"
   ]
  },
  {
   "cell_type": "code",
   "execution_count": 26,
   "metadata": {},
   "outputs": [],
   "source": [
    "def process_vector(w, p):\n",
    "    w = np.asarray(w, dtype=float)\n",
    "    # wを減少順にソート\n",
    "    sorted_indices = np.argsort(w)[::-1]\n",
    "    sorted_w = np.abs(w[sorted_indices])\n",
    "\n",
    "    # w(i)をp番目まで１, それ以外を0にする\n",
    "    w = np.zeros_like(w)\n",
    "    w[sorted_indices[:p]] = 1\n",
    "    return sorted_w, w"
   ]
  },
  {
   "cell_type": "code",
   "execution_count": 20,
   "metadata": {},
   "outputs": [],
   "source": [
    "def dca(T, C, M, xi, rho, epsilon, z_t_minus_1, varepsilon=0.001, max_iteration=100):\n",
    "    '''\n",
    "    DCアルゴリズムを解く\n",
    "    '''\n",
    "    \n",
    "    # 初期値の設定\n",
    "    f_t_minus_1 = 0\n",
    "    for iteration in range(max_iteration):\n",
    "        print(\"反復回数：\", iteration+1, \"回\")\n",
    "        # 劣微分の計算\n",
    "        _, s_z_t_minus_1 = process_vector(z_t_minus_1, int(len(xi)*epsilon))\n",
    "\n",
    "        # 凸最適化問題を解く\n",
    "        X, z, f_t = solve_main(T, C, M, xi, rho, s_z_t_minus_1)\n",
    "        print(\"X_t:\", X)\n",
    "        print(\"z_t:\", z)\n",
    "        print(\"f_t:\", f_t)\n",
    "\n",
    "        if np.abs(f_t - f_t_minus_1) < varepsilon:\n",
    "            break\n",
    "\n",
    "        # 次のイテレーションのための準備\n",
    "        f_t_minus_1 = f_t\n",
    "        z_t_minus_1 = z"
   ]
  },
  {
   "cell_type": "code",
   "execution_count": 40,
   "metadata": {},
   "outputs": [],
   "source": [
    "# パラメータの設定\n",
    "# 供給者数\n",
    "K = 3\n",
    "# 需要者数\n",
    "J = 3\n",
    "# シナリオ数\n",
    "n = 10\n",
    "# 重み\n",
    "T = np.ones((1, K))\n",
    "# コスト\n",
    "C = np.random.uniform(10, 50, size=(K, J))\n",
    "# 供給量\n",
    "M = np.random.randint(10, 20, size=K)\n",
    "\n",
    "# シナリオの設定\n",
    "xi = []\n",
    "making_xi_time_s = time.time()\n",
    "for _ in range(n):\n",
    "    mean = np.random.uniform(0, 10, J)  # 平均ベクトルをランダムに生成\n",
    "    variance = np.random.uniform(1, 5, J)  # 分散ベクトルをランダムに生成\n",
    "    consumer_demand = np.abs(np.random.normal(mean, np.sqrt(variance), J))  # 正規分布に従うランダムベクトルを生成\n",
    "    xi.append(consumer_demand)\n",
    "\n",
    "# パラメータの設定\n",
    "rho = 10000\n",
    "epsilon = 0.1\n",
    "z_t_minus_1 = np.random.rand(n)\n",
    "varepsilon = 1\n",
    "max_iteration = 100\n"
   ]
  },
  {
   "cell_type": "code",
   "execution_count": 7,
   "metadata": {},
   "outputs": [],
   "source": [
    "# seed値の設定\n",
    "np.random.seed(0)"
   ]
  },
  {
   "cell_type": "code",
   "execution_count": 39,
   "metadata": {},
   "outputs": [
    {
     "name": "stdout",
     "output_type": "stream",
     "text": [
      "[1.]\n"
     ]
    }
   ],
   "source": [
    "print(T)"
   ]
  },
  {
   "cell_type": "code",
   "execution_count": 19,
   "metadata": {},
   "outputs": [
    {
     "name": "stdout",
     "output_type": "stream",
     "text": [
      "[[27.48127815 37.90524784 12.40901887]\n",
      " [36.67066862 36.82551478 18.41530244]\n",
      " [15.15705191 22.61713404 24.54843084]]\n"
     ]
    }
   ],
   "source": [
    "print(C)"
   ]
  },
  {
   "cell_type": "code",
   "execution_count": 41,
   "metadata": {},
   "outputs": [
    {
     "name": "stdout",
     "output_type": "stream",
     "text": [
      "反復回数： 1 回\n",
      "Set parameter TimeLimit to value 300\n",
      "Gurobi Optimizer version 11.0.1 build v11.0.1rc0 (mac64[rosetta2] - Darwin 23.4.0 23E224)\n",
      "\n",
      "CPU model: Apple M3\n",
      "Thread count: 8 physical cores, 8 logical processors, using up to 8 threads\n",
      "\n",
      "Optimize a model with 33 rows, 19 columns and 129 nonzeros\n",
      "Model fingerprint: 0x9e42e828\n",
      "Coefficient statistics:\n",
      "  Matrix range     [3e-01, 1e+01]\n",
      "  Objective range  [1e+01, 1e+04]\n",
      "  Bounds range     [1e+00, 1e+00]\n",
      "  RHS range        [3e-01, 1e+01]\n",
      "Presolve time: 0.00s\n",
      "Presolved: 33 rows, 19 columns, 129 nonzeros\n",
      "\n",
      "Iteration    Objective       Primal Inf.    Dual Inf.      Time\n",
      "       0    0.0000000e+00   5.569253e+01   0.000000e+00      0s\n",
      "       7    4.5107565e+02   0.000000e+00   0.000000e+00      0s\n",
      "\n",
      "Solved in 7 iterations and 0.01 seconds (0.00 work units)\n",
      "Optimal objective  4.510756499e+02\n",
      "X_t: [[ 0.          8.93834146  0.        ]\n",
      " [ 0.          0.         10.92406925]\n",
      " [ 9.36530382  1.06165854  0.        ]]\n",
      "z_t: [0. 0. 0. 0. 0. 0. 0. 0. 0. 0.]\n",
      "f_t: 451.07564989560973\n",
      "反復回数： 2 回\n",
      "Set parameter TimeLimit to value 300\n",
      "Gurobi Optimizer version 11.0.1 build v11.0.1rc0 (mac64[rosetta2] - Darwin 23.4.0 23E224)\n",
      "\n",
      "CPU model: Apple M3\n",
      "Thread count: 8 physical cores, 8 logical processors, using up to 8 threads\n",
      "\n",
      "Optimize a model with 33 rows, 19 columns and 129 nonzeros\n",
      "Model fingerprint: 0x0a6d4500\n",
      "Coefficient statistics:\n",
      "  Matrix range     [3e-01, 1e+01]\n",
      "  Objective range  [1e+01, 1e+04]\n",
      "  Bounds range     [1e+00, 1e+00]\n",
      "  RHS range        [3e-01, 1e+01]\n",
      "Presolve time: 0.00s\n",
      "Presolved: 33 rows, 19 columns, 129 nonzeros\n",
      "\n",
      "Iteration    Objective       Primal Inf.    Dual Inf.      Time\n",
      "       0    0.0000000e+00   5.569253e+01   0.000000e+00      0s\n",
      "       7    4.5107565e+02   0.000000e+00   0.000000e+00      0s\n",
      "\n",
      "Solved in 7 iterations and 0.00 seconds (0.00 work units)\n",
      "Optimal objective  4.510756499e+02\n",
      "X_t: [[ 0.          8.93834146  0.        ]\n",
      " [ 0.          0.         10.92406925]\n",
      " [ 9.36530382  1.06165854  0.        ]]\n",
      "z_t: [0. 0. 0. 0. 0. 0. 0. 0. 0. 0.]\n",
      "f_t: 451.07564989560973\n"
     ]
    }
   ],
   "source": [
    "dca(T, C, M, xi, rho, epsilon, z_t_minus_1, varepsilon, max_iteration)"
   ]
  },
  {
   "cell_type": "code",
   "execution_count": 37,
   "metadata": {},
   "outputs": [
    {
     "name": "stdout",
     "output_type": "stream",
     "text": [
      "[0.64626444 0.21488074 0.18645822 0.80758027 0.74707947 0.67484735\n",
      " 0.27689375 0.17490887 0.70447426 0.4631502 ]\n"
     ]
    }
   ],
   "source": [
    "print(z_t_minus_1)"
   ]
  },
  {
   "cell_type": "code",
   "execution_count": 35,
   "metadata": {},
   "outputs": [
    {
     "name": "stdout",
     "output_type": "stream",
     "text": [
      "[array([1.66482336, 3.59142794, 5.18836702]), array([4.89899584, 1.17106457, 0.45994694]), array([4.47251097, 2.03188984, 7.0083378 ]), array([3.88126314, 7.54639256, 9.44127502]), array([ 7.10664814, 11.00868072,  1.35771662]), array([0.68301587, 5.65919948, 3.72121428]), array([12.39914639,  9.25188287,  9.23477906]), array([ 5.64673466,  4.92510699, 10.61996379]), array([2.5387455 , 8.38042646, 3.14883174]), array([2.10785693, 9.61050087, 1.7361977 ])]\n"
     ]
    }
   ],
   "source": [
    "print(xi)"
   ]
  },
  {
   "cell_type": "markdown",
   "metadata": {},
   "source": [
    "PMIP"
   ]
  },
  {
   "cell_type": "code",
   "execution_count": 44,
   "metadata": {},
   "outputs": [],
   "source": [
    "def solve_pmip(T, C, M, epsilon, xi):\n",
    "    '''\n",
    "    PMIPアルゴリズムによる最適化問題の解法\n",
    "    K：供給者数\n",
    "    J：需要者数\n",
    "    n：シナリオ数\n",
    "    '''\n",
    "\n",
    "    K, J = C.shape\n",
    "    n = len(xi) \n",
    "\n",
    "    # モデルの作成\n",
    "    model = gp.Model(\"pmip\")\n",
    "\n",
    "    # 変数の設定\n",
    "    X = model.addMVar((K, J), lb=0.0, vtype=GRB.CONTINUOUS, name=\"X\")\n",
    "    z = model.addVars(n, lb=0.0, vtype=GRB.BINARY, name=\"z\")\n",
    "\n",
    "    # 目的関数の設定\n",
    "    objective = gp.quicksum(C[k, j] * X[k, j] for k in range(K) for j in range(J))\n",
    "    model.setObjective(objective, GRB.MINIMIZE)\n",
    "\n",
    "    # 制約条件の設定\n",
    "    for i in range(n):\n",
    "        model.addConstr(T @ X >= (1 - z[i]) * np.array(list(xi[i])))\n",
    "    \n",
    "    model.addConstr(gp.quicksum(z[t] for t in range(n)) <= n * epsilon)\n",
    "\n",
    "    for k in range(K):\n",
    "        model.addConstr(gp.quicksum(X[k, j] for j in range(J)) <= M[k])\n",
    "\n",
    "    # 時間上限の設定\n",
    "    model.Params.TimeLimit = 300\n",
    "\n",
    "    # 最適化\n",
    "    model.optimize()\n",
    "\n",
    "    # 結果の取得\n",
    "    if model.status == GRB.OPTIMAL:\n",
    "        optimal_X = np.array([[X[k, j].x for k in range(K)] for j in range(J)])\n",
    "        optimal_z = np.array([z[i].x for i in range(n)])\n",
    "        optimal_value = model.objVal\n",
    "        return optimal_X, optimal_z, optimal_value\n",
    "    else:\n",
    "        print(\"最適解が得られませんでした\")\n",
    "        return None, None, None"
   ]
  },
  {
   "cell_type": "code",
   "execution_count": 45,
   "metadata": {},
   "outputs": [
    {
     "name": "stdout",
     "output_type": "stream",
     "text": [
      "Set parameter TimeLimit to value 300\n",
      "Gurobi Optimizer version 11.0.1 build v11.0.1rc0 (mac64[rosetta2] - Darwin 23.4.0 23E224)\n",
      "\n",
      "CPU model: Apple M3\n",
      "Thread count: 8 physical cores, 8 logical processors, using up to 8 threads\n",
      "\n",
      "Optimize a model with 34 rows, 19 columns and 139 nonzeros\n",
      "Model fingerprint: 0x18e0bc68\n",
      "Variable types: 9 continuous, 10 integer (10 binary)\n",
      "Coefficient statistics:\n",
      "  Matrix range     [3e-01, 1e+01]\n",
      "  Objective range  [1e+01, 4e+01]\n",
      "  Bounds range     [1e+00, 1e+00]\n",
      "  RHS range        [3e-01, 1e+01]\n",
      "Presolve time: 0.00s\n",
      "Presolved: 34 rows, 19 columns, 139 nonzeros\n",
      "Variable types: 9 continuous, 10 integer (10 binary)\n",
      "Found heuristic solution: objective 451.0756499\n",
      "\n",
      "Root relaxation: objective 3.051303e+02, 12 iterations, 0.00 seconds (0.00 work units)\n",
      "\n",
      "    Nodes    |    Current Node    |     Objective Bounds      |     Work\n",
      " Expl Unexpl |  Obj  Depth IntInf | Incumbent    BestBd   Gap | It/Node Time\n",
      "\n",
      "     0     0  305.13027    0    5  451.07565  305.13027  32.4%     -    0s\n",
      "H    0     0                     392.8068597  305.13027  22.3%     -    0s\n",
      "\n",
      "Cutting planes:\n",
      "  Gomory: 1\n",
      "  MIR: 10\n",
      "\n",
      "Explored 1 nodes (12 simplex iterations) in 0.01 seconds (0.00 work units)\n",
      "Thread count was 8 (of 8 available processors)\n",
      "\n",
      "Solution count 2: 392.807 451.076 \n",
      "\n",
      "Optimal solution found (tolerance 1.00e-04)\n",
      "Best objective 3.928068596557e+02, best bound 3.928068596557e+02, gap 0.0000%\n"
     ]
    },
    {
     "data": {
      "text/plain": [
       "(array([[0.        , 8.93834146, 0.        ],\n",
       "        [0.        , 0.        , 7.96521854],\n",
       "        [8.29765861, 1.06165854, 0.        ]]),\n",
       " array([-0.,  1.,  0., -0., -0., -0., -0., -0., -0., -0.]),\n",
       " 392.8068596557003)"
      ]
     },
     "execution_count": 45,
     "metadata": {},
     "output_type": "execute_result"
    }
   ],
   "source": [
    "solve_pmip(T, C, M, epsilon, xi)"
   ]
  },
  {
   "cell_type": "code",
   "execution_count": 46,
   "metadata": {},
   "outputs": [
    {
     "name": "stdout",
     "output_type": "stream",
     "text": [
      "反復回数： 1 回\n",
      "Set parameter TimeLimit to value 300\n",
      "Gurobi Optimizer version 11.0.1 build v11.0.1rc0 (mac64[rosetta2] - Darwin 23.4.0 23E224)\n",
      "\n",
      "CPU model: Apple M3\n",
      "Thread count: 8 physical cores, 8 logical processors, using up to 8 threads\n",
      "\n",
      "Optimize a model with 33 rows, 19 columns and 129 nonzeros\n",
      "Model fingerprint: 0x9e42e828\n",
      "Coefficient statistics:\n",
      "  Matrix range     [3e-01, 1e+01]\n",
      "  Objective range  [1e+01, 1e+04]\n",
      "  Bounds range     [1e+00, 1e+00]\n",
      "  RHS range        [3e-01, 1e+01]\n",
      "Presolve time: 0.04s\n",
      "Presolved: 33 rows, 19 columns, 129 nonzeros\n",
      "\n",
      "Iteration    Objective       Primal Inf.    Dual Inf.      Time\n",
      "       0    0.0000000e+00   5.569253e+01   0.000000e+00      0s\n",
      "       7    4.5107565e+02   0.000000e+00   0.000000e+00      0s\n",
      "\n",
      "Solved in 7 iterations and 0.05 seconds (0.00 work units)\n",
      "Optimal objective  4.510756499e+02\n",
      "X_t: [[ 0.          8.93834146  0.        ]\n",
      " [ 0.          0.         10.92406925]\n",
      " [ 9.36530382  1.06165854  0.        ]]\n",
      "z_t: [0. 0. 0. 0. 0. 0. 0. 0. 0. 0.]\n",
      "f_t: 451.07564989560973\n",
      "反復回数： 2 回\n",
      "Set parameter TimeLimit to value 300\n",
      "Gurobi Optimizer version 11.0.1 build v11.0.1rc0 (mac64[rosetta2] - Darwin 23.4.0 23E224)\n",
      "\n",
      "CPU model: Apple M3\n",
      "Thread count: 8 physical cores, 8 logical processors, using up to 8 threads\n",
      "\n",
      "Optimize a model with 33 rows, 19 columns and 129 nonzeros\n",
      "Model fingerprint: 0x0a6d4500\n",
      "Coefficient statistics:\n",
      "  Matrix range     [3e-01, 1e+01]\n",
      "  Objective range  [1e+01, 1e+04]\n",
      "  Bounds range     [1e+00, 1e+00]\n",
      "  RHS range        [3e-01, 1e+01]\n",
      "Presolve time: 0.00s\n",
      "Presolved: 33 rows, 19 columns, 129 nonzeros\n",
      "\n",
      "Iteration    Objective       Primal Inf.    Dual Inf.      Time\n",
      "       0    0.0000000e+00   5.569253e+01   0.000000e+00      0s\n",
      "       7    4.5107565e+02   0.000000e+00   0.000000e+00      0s\n",
      "\n",
      "Solved in 7 iterations and 0.01 seconds (0.00 work units)\n",
      "Optimal objective  4.510756499e+02\n",
      "X_t: [[ 0.          8.93834146  0.        ]\n",
      " [ 0.          0.         10.92406925]\n",
      " [ 9.36530382  1.06165854  0.        ]]\n",
      "z_t: [0. 0. 0. 0. 0. 0. 0. 0. 0. 0.]\n",
      "f_t: 451.07564989560973\n"
     ]
    },
    {
     "ename": "TypeError",
     "evalue": "cannot unpack non-iterable NoneType object",
     "output_type": "error",
     "traceback": [
      "\u001b[0;31m---------------------------------------------------------------------------\u001b[0m",
      "\u001b[0;31mTypeError\u001b[0m                                 Traceback (most recent call last)",
      "Cell \u001b[0;32mIn[46], line 1\u001b[0m\n\u001b[0;32m----> 1\u001b[0m optimal_X, optimal_z, optimal_value \u001b[38;5;241m=\u001b[39m dca(T, C, M, xi, rho, epsilon, z_t_minus_1, varepsilon, max_iteration)\n\u001b[1;32m      2\u001b[0m \u001b[38;5;28mprint\u001b[39m(\u001b[38;5;124m\"\u001b[39m\u001b[38;5;124mOptimal X:\u001b[39m\u001b[38;5;124m\"\u001b[39m, optimal_X)\n\u001b[1;32m      3\u001b[0m \u001b[38;5;28mprint\u001b[39m(\u001b[38;5;124m\"\u001b[39m\u001b[38;5;124mOptimal z:\u001b[39m\u001b[38;5;124m\"\u001b[39m, optimal_z)\n",
      "\u001b[0;31mTypeError\u001b[0m: cannot unpack non-iterable NoneType object"
     ]
    }
   ],
   "source": [
    "optimal_X, optimal_z, optimal_value = dca(T, C, M, xi, rho, epsilon, z_t_minus_1, varepsilon, max_iteration)\n",
    "print(\"Optimal X:\", optimal_X)\n",
    "print(\"Optimal z:\", optimal_z)\n",
    "print(\"Optimal value:\", optimal_value)\n"
   ]
  },
  {
   "cell_type": "code",
   "execution_count": 50,
   "metadata": {},
   "outputs": [],
   "source": [
    "X_t = [[ 0,        8.93834146, 0.        ],\n",
    " [ 0,    0,  10.92406925],\n",
    " [ 9.36530382,  1.06165854,  0.        ]]"
   ]
  },
  {
   "cell_type": "code",
   "execution_count": 51,
   "metadata": {},
   "outputs": [
    {
     "name": "stdout",
     "output_type": "stream",
     "text": [
      "[[0, 8.93834146, 0.0], [0, 0, 10.92406925], [9.36530382, 1.06165854, 0.0]]\n"
     ]
    }
   ],
   "source": [
    "print(X_t)"
   ]
  },
  {
   "cell_type": "code",
   "execution_count": 52,
   "metadata": {},
   "outputs": [
    {
     "data": {
      "text/plain": [
       "array([[155.4486349 , 407.4866875 , 198.75940342],\n",
       "       [105.06108896, 145.92524575, 424.76305891],\n",
       "       [175.1126354 , 376.30991041, 149.7017693 ]])"
      ]
     },
     "execution_count": 52,
     "metadata": {},
     "output_type": "execute_result"
    }
   ],
   "source": [
    "C @ X_t"
   ]
  },
  {
   "cell_type": "code",
   "execution_count": 55,
   "metadata": {},
   "outputs": [
    {
     "data": {
      "text/plain": [
       "array([435.62235925, 929.72184366, 773.22423163])"
      ]
     },
     "execution_count": 55,
     "metadata": {},
     "output_type": "execute_result"
    }
   ],
   "source": [
    "sum(C @ X_t)"
   ]
  },
  {
   "cell_type": "code",
   "execution_count": 53,
   "metadata": {},
   "outputs": [],
   "source": [
    "X_t_mip = [[0.        , 8.93834146, 0.        ],\n",
    "        [0.        , 0.        , 7.96521854],\n",
    "        [8.29765861, 1.06165854, 0.        ]]"
   ]
  },
  {
   "cell_type": "code",
   "execution_count": 54,
   "metadata": {},
   "outputs": [
    {
     "data": {
      "text/plain": [
       "array([[137.72748098, 407.4866875 , 144.92420809],\n",
       "       [ 93.08411837, 145.92524575, 309.71339658],\n",
       "       [155.14978422, 376.30991041, 109.15413305]])"
      ]
     },
     "execution_count": 54,
     "metadata": {},
     "output_type": "execute_result"
    }
   ],
   "source": [
    "C @ X_t_mip"
   ]
  },
  {
   "cell_type": "code",
   "execution_count": 56,
   "metadata": {},
   "outputs": [
    {
     "data": {
      "text/plain": [
       "array([385.96138357, 929.72184366, 563.79173771])"
      ]
     },
     "execution_count": 56,
     "metadata": {},
     "output_type": "execute_result"
    }
   ],
   "source": [
    "sum(C @ X_t_mip)"
   ]
  },
  {
   "cell_type": "code",
   "execution_count": 59,
   "metadata": {},
   "outputs": [
    {
     "name": "stdout",
     "output_type": "stream",
     "text": [
      "Objective Function Value: 2138.568434537703\n"
     ]
    }
   ],
   "source": [
    "objective_value = np.sum(C @ X_t)\n",
    "print(\"Objective Function Value:\", objective_value)\n"
   ]
  },
  {
   "cell_type": "code",
   "execution_count": 60,
   "metadata": {},
   "outputs": [
    {
     "name": "stdout",
     "output_type": "stream",
     "text": [
      "MIP Objective Function Value: 1879.4749649427656\n"
     ]
    }
   ],
   "source": [
    "objective_value = np.sum(C @ X_t_mip)\n",
    "print(\"MIP Objective Function Value:\", objective_value)"
   ]
  },
  {
   "cell_type": "code",
   "execution_count": 64,
   "metadata": {},
   "outputs": [],
   "source": [
    "# f^t = cx+ρ(|z|_1)-zs_z^{t-1}の計算\n",
    "def solve_main(T, C, M, xi, rho, s_z_t_minus_1):\n",
    "    '''\n",
    "    DCアルゴリズムによる最適化問題の解法\n",
    "    K：供給者数\n",
    "    J：需要者数\n",
    "    n：シナリオ数\n",
    "    '''\n",
    "\n",
    "    K, J = C.shape\n",
    "    n = len(xi) \n",
    "\n",
    "    # モデルの作成\n",
    "    model = gp.Model(\"dca\")\n",
    "\n",
    "    # 変数の設定\n",
    "    X = model.addMVar((K, J), lb=0.0, vtype=GRB.CONTINUOUS, name=\"X\")\n",
    "    z = model.addVars(n, lb=0.0, ub=1.0, vtype=GRB.CONTINUOUS, name=\"z\")\n",
    "\n",
    "    # 目的関数の設定\n",
    "    objective = gp.quicksum(np.sum(C @ X)) + rho * gp.quicksum(z[t] for t in range(n)) - gp.quicksum(z[t] * s_z_t_minus_1[t] for t in range(n))\n",
    "    model.setObjective(objective, GRB.MINIMIZE)\n",
    "\n",
    "    # 制約条件の設定\n",
    "    for i in range(n):\n",
    "        model.addConstr(T @ X >= (1 - z[i]) * np.array(list(xi[i])))\n",
    "\n",
    "    for k in range(K):\n",
    "        model.addConstr(gp.quicksum(X[k, j] for j in range(J)) <= M[k])\n",
    "\n",
    "    # 時間上限の設定\n",
    "    model.Params.TimeLimit = 300\n",
    "\n",
    "    # 最適化\n",
    "    model.optimize()\n",
    "\n",
    "    # 結果の取得\n",
    "    if model.status == GRB.OPTIMAL:\n",
    "        optimal_X = np.array([[X[k, j].x for k in range(K)] for j in range(J)])\n",
    "        optimal_z = np.array([z[i].x for i in range(n)])\n",
    "        optimal_value = model.objVal\n",
    "        return optimal_X, optimal_z, optimal_value\n",
    "    else:\n",
    "        print(\"最適解が得られませんでした\")\n",
    "        return None, None, None"
   ]
  },
  {
   "cell_type": "code",
   "execution_count": 67,
   "metadata": {},
   "outputs": [
    {
     "name": "stdout",
     "output_type": "stream",
     "text": [
      "反復回数： 1 回\n",
      "Set parameter TimeLimit to value 300\n",
      "Gurobi Optimizer version 11.0.1 build v11.0.1rc0 (mac64[rosetta2] - Darwin 23.4.0 23E224)\n",
      "\n",
      "CPU model: Apple M3\n",
      "Thread count: 8 physical cores, 8 logical processors, using up to 8 threads\n",
      "\n",
      "Optimize a model with 33 rows, 19 columns and 129 nonzeros\n",
      "Model fingerprint: 0x9e42e828\n",
      "Coefficient statistics:\n",
      "  Matrix range     [3e-01, 1e+01]\n",
      "  Objective range  [1e+01, 1e+04]\n",
      "  Bounds range     [1e+00, 1e+00]\n",
      "  RHS range        [3e-01, 1e+01]\n",
      "Presolve time: 0.00s\n",
      "Presolved: 33 rows, 19 columns, 129 nonzeros\n",
      "\n",
      "Iteration    Objective       Primal Inf.    Dual Inf.      Time\n",
      "       0    0.0000000e+00   5.569253e+01   0.000000e+00      0s\n",
      "       7    4.5107565e+02   0.000000e+00   0.000000e+00      0s\n",
      "\n",
      "Solved in 7 iterations and 0.00 seconds (0.00 work units)\n",
      "Optimal objective  4.510756499e+02\n",
      "X_t: [[ 0.          8.93834146  0.        ]\n",
      " [ 0.          0.         10.92406925]\n",
      " [ 9.36530382  1.06165854  0.        ]]\n",
      "z_t: [0. 0. 0. 0. 0. 0. 0. 0. 0. 0.]\n",
      "f_t: 451.07564989560973\n",
      "反復回数： 2 回\n",
      "Set parameter TimeLimit to value 300\n",
      "Gurobi Optimizer version 11.0.1 build v11.0.1rc0 (mac64[rosetta2] - Darwin 23.4.0 23E224)\n",
      "\n",
      "CPU model: Apple M3\n",
      "Thread count: 8 physical cores, 8 logical processors, using up to 8 threads\n",
      "\n",
      "Optimize a model with 33 rows, 19 columns and 129 nonzeros\n",
      "Model fingerprint: 0x0a6d4500\n",
      "Coefficient statistics:\n",
      "  Matrix range     [3e-01, 1e+01]\n",
      "  Objective range  [1e+01, 1e+04]\n",
      "  Bounds range     [1e+00, 1e+00]\n",
      "  RHS range        [3e-01, 1e+01]\n",
      "Presolve time: 0.00s\n",
      "Presolved: 33 rows, 19 columns, 129 nonzeros\n",
      "\n",
      "Iteration    Objective       Primal Inf.    Dual Inf.      Time\n",
      "       0    0.0000000e+00   5.569253e+01   0.000000e+00      0s\n",
      "       7    4.5107565e+02   0.000000e+00   0.000000e+00      0s\n",
      "\n",
      "Solved in 7 iterations and 0.00 seconds (0.00 work units)\n",
      "Optimal objective  4.510756499e+02\n",
      "X_t: [[ 0.          8.93834146  0.        ]\n",
      " [ 0.          0.         10.92406925]\n",
      " [ 9.36530382  1.06165854  0.        ]]\n",
      "z_t: [0. 0. 0. 0. 0. 0. 0. 0. 0. 0.]\n",
      "f_t: 451.07564989560973\n"
     ]
    }
   ],
   "source": [
    "dca(T, C, M, xi, rho, epsilon, z_t_minus_1, varepsilon, max_iteration)"
   ]
  },
  {
   "cell_type": "markdown",
   "metadata": {},
   "source": [
    "PMIP_STAR"
   ]
  },
  {
   "cell_type": "code",
   "execution_count": null,
   "metadata": {},
   "outputs": [],
   "source": [
    "def solve_mip_star(T, C, M, epsilon, xi):\n",
    "    K, J = C.shape\n",
    "    n = len(xi)\n",
    "    p = int(n * epsilon + 1)\n",
    "    h = xi[np.argsort(np.sum(xi, axis=1))[::-1]]\n",
    "\n"
   ]
  },
  {
   "cell_type": "code",
   "execution_count": null,
   "metadata": {},
   "outputs": [],
   "source": [
    "import numpy as np\n",
    "import numpy as np\n",
    "\n",
    "def calculate_subgradients(f, x, epsilon=1e-6):\n",
    "    \"\"\"\n",
    "    Calculate subgradients of a function f at point x.\n",
    "    f: function to calculate subgradients for\n",
    "    x: point at which to calculate subgradients\n",
    "    epsilon: small value for numerical differentiation\n",
    "    Returns: subgradients of f at x\n",
    "    \"\"\"\n",
    "    subgradients = []\n",
    "    n = len(x)\n",
    "    for i in range(n):\n",
    "        delta = np.zeros(n)\n",
    "        delta[i] = epsilon\n",
    "        subgradient = (f(x + delta) - f(x - delta)) / (2 * epsilon)\n",
    "        subgradients.append(subgradient)\n",
    "    return subgradients\n",
    "# 配列の定義\n",
    "arr = np.array([5, 2, 9, 1, 7])\n",
    "\n",
    "# argmaxの計算\n",
    "max_index = np.argmax(arr)\n",
    "\n",
    "print(\"argmax:\", max_index)\n",
    "print(\"最大値:\", arr[max_index])\n"
   ]
  },
  {
   "cell_type": "code",
   "execution_count": 71,
   "metadata": {},
   "outputs": [
    {
     "name": "stdout",
     "output_type": "stream",
     "text": [
      "s: [1. 1. 1. 0. 0.]\n",
      "value: 6.0\n",
      "s: [1. 1. 0. 1. 0.]\n",
      "value: 7.0\n",
      "s: [1. 1. 0. 0. 1.]\n",
      "value: 8.0\n",
      "s: [1. 0. 1. 1. 0.]\n",
      "value: 8.0\n",
      "s: [1. 0. 1. 0. 1.]\n",
      "value: 9.0\n",
      "s: [1. 0. 0. 1. 1.]\n",
      "value: 10.0\n",
      "s: [0. 1. 1. 1. 0.]\n",
      "value: 9.0\n",
      "s: [0. 1. 1. 0. 1.]\n",
      "value: 10.0\n",
      "s: [0. 1. 0. 1. 1.]\n",
      "value: 11.0\n",
      "s: [0. 0. 1. 1. 1.]\n",
      "value: 12.0\n",
      "argmax_s: [0. 0. 1. 1. 1.]\n"
     ]
    }
   ],
   "source": [
    "import numpy as np\n",
    "from itertools import combinations\n",
    "\n",
    "def calculate_argmax(w, K):\n",
    "    n = len(w)\n",
    "    max_value = float('-inf')\n",
    "    max_combination = None\n",
    "\n",
    "    for indices in combinations(range(n), K):\n",
    "        s = np.zeros(n)\n",
    "        s[list(indices)] = 1\n",
    "        value = np.dot(w, s)\n",
    "        print(\"s:\", s)\n",
    "        print(\"value:\", value)\n",
    "        \n",
    "        if value > max_value:\n",
    "            max_value = value\n",
    "            max_combination = s\n",
    "    \n",
    "    return max_combination\n",
    "\n",
    "w = np.array([1, 2, 3, 4, 5])\n",
    "K = 3\n",
    "\n",
    "argmax_s = calculate_argmax(w, K)\n",
    "print(\"argmax_s:\", argmax_s)\n"
   ]
  },
  {
   "cell_type": "code",
   "execution_count": 72,
   "metadata": {},
   "outputs": [
    {
     "name": "stdout",
     "output_type": "stream",
     "text": [
      "[5 4 3 2 1]\n"
     ]
    }
   ],
   "source": [
    "def sort_vector_desc(vector):\n",
    "    sorted_vector = np.sort(vector)[::-1]\n",
    "    return sorted_vector\n",
    "\n",
    "# テスト用のベクトル\n",
    "vector = np.array([3, 1, 4, 2, 5])\n",
    "\n",
    "# ベクトルを降順に並び替える\n",
    "sorted_vector = sort_vector_desc(vector)\n",
    "\n",
    "print(sorted_vector)\n"
   ]
  },
  {
   "cell_type": "code",
   "execution_count": 69,
   "metadata": {},
   "outputs": [
    {
     "data": {
      "text/plain": [
       "(array([5., 4., 3., 2., 1.]), array([1., 0., 1., 0., 1.]))"
      ]
     },
     "execution_count": 69,
     "metadata": {},
     "output_type": "execute_result"
    }
   ],
   "source": [
    "def process_vector(w, K):\n",
    "    w = np.asarray(w, dtype=float)\n",
    "    # wを減少順に並べ替える\n",
    "    sorted_indices = np.argsort(-np.abs(w))\n",
    "    sorted_w = np.abs(w[sorted_indices])\n",
    "    # print(\"sorted indices\", sorted_indices)\n",
    "    # print(\"sorted_w\", sorted_w)\n",
    "\n",
    "    # w(i)をK番目まで1、それ以外を0にする\n",
    "    s = np.zeros_like(w)\n",
    "    s[sorted_indices[:K]] = np.sign(w[sorted_indices[:K]])\n",
    "    # print(\"s\", s)\n",
    "\n",
    "    return sorted_w, s\n",
    "\n",
    "process_vector(vector, 3)"
   ]
  },
  {
   "cell_type": "code",
   "execution_count": 73,
   "metadata": {},
   "outputs": [
    {
     "name": "stdout",
     "output_type": "stream",
     "text": [
      "argmax_s: [0 0 1 1 1]\n"
     ]
    }
   ],
   "source": [
    "import numpy as np\n",
    "\n",
    "w = np.array([1, 2, 3, 4, 5])\n",
    "K = 3\n",
    "\n",
    "# argmaxの計算\n",
    "max_indices = np.argsort(-w)[:K]\n",
    "argmax_s = np.zeros_like(w)\n",
    "argmax_s[max_indices] = 1\n",
    "\n",
    "print(\"argmax_s:\", argmax_s)"
   ]
  },
  {
   "cell_type": "code",
   "execution_count": null,
   "metadata": {},
   "outputs": [],
   "source": []
  }
 ],
 "metadata": {
  "kernelspec": {
   "display_name": ".venv",
   "language": "python",
   "name": "python3"
  },
  "language_info": {
   "codemirror_mode": {
    "name": "ipython",
    "version": 3
   },
   "file_extension": ".py",
   "mimetype": "text/x-python",
   "name": "python",
   "nbconvert_exporter": "python",
   "pygments_lexer": "ipython3",
   "version": "3.12.2"
  }
 },
 "nbformat": 4,
 "nbformat_minor": 2
}
